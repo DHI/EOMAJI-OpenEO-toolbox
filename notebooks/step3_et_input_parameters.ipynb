{
 "cells": [
  {
   "cell_type": "markdown",
   "metadata": {},
   "source": [
    "This notebook can be run on the Copernicus Dataspace Jupyterhub but running the following package installation cell first\n",
    "\n",
    "**Note** You should select on of the kernels with GDAL installed, eg. \"Geo science\""
   ]
  },
  {
   "cell_type": "code",
   "execution_count": 1,
   "metadata": {},
   "outputs": [],
   "source": [
    "try:\n",
    "    import eomaji\n",
    "except ModuleNotFoundError:\n",
    "    !pip install eomaji@git+https://github.com/DHI/EOMAJI-OpenEO-toolbox.git"
   ]
  },
  {
   "cell_type": "markdown",
   "metadata": {},
   "source": [
    "# Meteorological & Biophysical Parameter Workflow"
   ]
  },
  {
   "cell_type": "code",
   "execution_count": 2,
   "metadata": {},
   "outputs": [],
   "source": [
    "import openeo\n",
    "from pathlib import Path\n",
    "from eomaji.workflows.meteo_preprocessing import get_meteo_data\n",
    "from eomaji.workflows.sentinel2_preprocessing import split_datasets_to_tiffs\n",
    "from eomaji.workflows.prepare_data_cubes import prepare_data_cubes\n",
    "from eomaji.utils.general_utils import read_area_date_info\n",
    "from eomaji.utils.raster_utils import resample_to_s2"
   ]
  },
  {
   "cell_type": "markdown",
   "metadata": {},
   "source": [
    "## 1. Set up the OpenEO connection"
   ]
  },
  {
   "cell_type": "code",
   "execution_count": 3,
   "metadata": {},
   "outputs": [
    {
     "name": "stderr",
     "output_type": "stream",
     "text": [
      "2025-06-19 14:42:39,750 [INFO] Loaded openEO client config from sources: []\n",
      "2025-06-19 14:42:40,368 [INFO] Found OIDC providers: ['CDSE']\n",
      "2025-06-19 14:42:40,372 [INFO] No OIDC provider given, but only one available: 'CDSE'. Using that one.\n",
      "2025-06-19 14:42:40,765 [INFO] Using default client_id 'sh-b1c3a958-52d4-40fe-a333-153595d1c71e' from OIDC provider 'CDSE' info.\n",
      "2025-06-19 14:42:40,773 [INFO] Found refresh token: trying refresh token based authentication.\n",
      "2025-06-19 14:42:40,776 [INFO] Doing 'refresh_token' token request 'https://identity.dataspace.copernicus.eu/auth/realms/CDSE/protocol/openid-connect/token' with post data fields ['grant_type', 'client_id', 'refresh_token'] (client_id 'sh-b1c3a958-52d4-40fe-a333-153595d1c71e')\n",
      "2025-06-19 14:42:41,035 [INFO] Obtained tokens: ['access_token', 'id_token', 'refresh_token']\n",
      "2025-06-19 14:42:41,037 [INFO] Storing refresh token for issuer 'https://identity.dataspace.copernicus.eu/auth/realms/CDSE' (client 'sh-b1c3a958-52d4-40fe-a333-153595d1c71e')\n"
     ]
    },
    {
     "name": "stdout",
     "output_type": "stream",
     "text": [
      "Authenticated using refresh token.\n"
     ]
    },
    {
     "data": {
      "text/plain": [
       "<Connection to 'https://openeo.dataspace.copernicus.eu/openeo/1.2/' with OidcBearerAuth>"
      ]
     },
     "execution_count": 3,
     "metadata": {},
     "output_type": "execute_result"
    }
   ],
   "source": [
    "connection = openeo.connect(\"https://openeo.dataspace.copernicus.eu\")\n",
    "connection.authenticate_oidc()"
   ]
  },
  {
   "cell_type": "markdown",
   "metadata": {},
   "source": [
    "## 2. Define AOI and date\n",
    "Either read it from dumped information from the [prepare_data.ipynb](notebooks/prepare_data.ipynb) notebook, or define it yourself"
   ]
  },
  {
   "cell_type": "code",
   "execution_count": 4,
   "metadata": {},
   "outputs": [],
   "source": [
    "date_dir = \"./data\"\n",
    "date, bbox = read_area_date_info(\n",
    "    dir=date_dir\n",
    ")\n",
    "# date = datetime.date(2023, 6, 25)\n",
    "#bbox = [6.153142, 45.045924, 6.433234, 45.251259]"
   ]
  },
  {
   "cell_type": "markdown",
   "metadata": {},
   "source": [
    "## 3. Download Sentinel 2 and Sentinel 3 data for AOI and date\n",
    "**Note** If you this function checks if the data already exists first"
   ]
  },
  {
   "cell_type": "code",
   "execution_count": null,
   "metadata": {},
   "outputs": [
    {
     "name": "stderr",
     "output_type": "stream",
     "text": [
      "2025-06-19 14:42:41,220 [INFO] Cached Sentinel 2 data cube found. Skipping download.\n",
      "/usr/local/lib/python3.10/dist-packages/openeo/rest/connection.py:1171: UserWarning: Property filtering with unsupported properties according to collection/STAC metadata: {'timeliness', 'orbitDirection'} (supported: dict_keys(['bands', 'eo:bands', 'raster:bands'])).\n",
      "  return DataCube.load_collection(\n",
      "2025-06-19 14:42:41,328 [INFO] Cached DEM data cube found. Skipping download.\n"
     ]
    },
    {
     "name": "stderr",
     "output_type": "stream",
     "text": [
      "2025-06-19 14:42:41,330 [INFO] Cached DEM cube found. Skipping download.\n",
      "2025-06-19 14:42:41,398 [INFO] Cached Worldcover cube found. Skipping download.\n",
      "2025-06-19 14:42:41,400 [INFO] Data cubes prepared and saved.\n"
     ]
    }
   ],
   "source": [
    "s2_path, s3_path, vza_path, worldcover_path, dem_s2_path, dem_s3_path, sentinel3_acq_time, = prepare_data_cubes(\n",
    "    connection=connection,\n",
    "    bbox=bbox,\n",
    "    date=date,\n",
    "    sentinel2_search_range = 3,\n",
    "    out_dir = date_dir,\n",
    ")"
   ]
  },
  {
   "cell_type": "code",
   "execution_count": 6,
   "metadata": {},
   "outputs": [
    {
     "name": "stderr",
     "output_type": "stream",
     "text": [
      "2025-06-19 14:42:42,498 [INFO] Saved FAPAR to data/20230531_00e8dda8/20230531_FAPAR.tif\n",
      "2025-06-19 14:42:42,707 [INFO] Saved LAI to data/20230531_00e8dda8/20230531_LAI.tif\n",
      "2025-06-19 14:42:42,896 [INFO] Saved FCOVER to data/20230531_00e8dda8/20230531_FCOVER.tif\n",
      "2025-06-19 14:42:43,046 [INFO] Saved CCC to data/20230531_00e8dda8/20230531_CCC.tif\n",
      "2025-06-19 14:42:43,202 [INFO] Saved CWC to data/20230531_00e8dda8/20230531_CWC.tif\n",
      "2025-06-19 14:42:43,269 [INFO] Saved SCL to data/20230531_00e8dda8/20230531_SCL.tif\n",
      "2025-06-19 14:42:43,387 [INFO] Saved sunZenithAngles to data/20230531_00e8dda8/20230531_SZA.tif\n",
      "2025-06-19 14:42:43,435 [INFO] Saved LST to data/20230531_00e8dda8/20230531_LST.tif\n",
      "2025-06-19 14:42:43,474 [INFO] Saved confidence_in to data/20230531_00e8dda8/20230531_confidence_in.tif\n",
      "2025-06-19 14:42:43,509 [INFO] Saved viewZenithAngles to data/20230531_00e8dda8/20230531_VZA.tif\n",
      "2025-06-19 14:42:44,978 [INFO] Saved frac_green to data/20230531_00e8dda8/20230531_F_G.tif\n",
      "2025-06-19 14:42:45,548 [INFO] Saved H_C to data/20230531_00e8dda8/20230531_H_C.tif\n",
      "2025-06-19 14:42:45,840 [INFO] Saved veg_height_width_ratio to data/20230531_00e8dda8/20230531_W_C.tif\n",
      "2025-06-19 14:42:46,114 [INFO] Saved veg_leaf_width to data/20230531_00e8dda8/20230531_LEAF_WIDTH.tif\n",
      "2025-06-19 14:42:46,344 [INFO] Saved raster: data/20230531_00e8dda8/20230531_RHO_VIS_C.tif\n",
      "2025-06-19 14:42:46,370 [INFO] Saved raster: data/20230531_00e8dda8/20230531_TAU_VIS_C.tif\n",
      "2025-06-19 14:42:46,373 [INFO] Processed LAI to VIS: data/20230531_00e8dda8/20230531_RHO_VIS_C.tif, data/20230531_00e8dda8/20230531_TAU_VIS_C.tif\n",
      "2025-06-19 14:42:46,480 [INFO] Saved raster: data/20230531_00e8dda8/20230531_RHO_NIR_C.tif\n",
      "2025-06-19 14:42:46,560 [INFO] Saved raster: data/20230531_00e8dda8/20230531_TAU_NIR_C.tif\n",
      "2025-06-19 14:42:46,563 [INFO] Processed CWC to NIR: data/20230531_00e8dda8/20230531_RHO_NIR_C.tif, data/20230531_00e8dda8/20230531_TAU_NIR_C.tif\n"
     ]
    }
   ],
   "source": [
    "tif_path = split_datasets_to_tiffs(s2_path = s2_path, s3_path = s3_path, worldcover_path = worldcover_path, date = date)"
   ]
  },
  {
   "cell_type": "markdown",
   "metadata": {},
   "source": [
    "## 4. Get Meteorological Data\n",
    "Fetch data from Atmosphere Data Store and Climate Data Store and calculate meteorological featurel\n",
    "\n",
    "The notebook depends on [Climate Data Store](https://cds.climate.copernicus.eu/) and the [Atmosphere Data Store](https://cds.climate.copernicus.eu/). To access data from these two sources you need an API key as described in the documentation:\n",
    "* [CDS User Guide](https://cds.climate.copernicus.eu/how-to-api) \n",
    "\n",
    "To run the next functions, you need to create a ```.adsapirc``` and a ```.cdsapirc``` file with the API key like this:\n",
    "\n",
    "``` bash\n",
    ".adsapirc\n",
    "url: https://ads.atmosphere.copernicus.eu/api\n",
    "key: <api_key>\n",
    "```\n",
    "and\n",
    "```` bash\n",
    ".cdsapirc\n",
    "url: https://cds.climate.copernicus.eu/api\n",
    "key: <api_key>\n",
    "````"
   ]
  },
  {
   "cell_type": "code",
   "execution_count": null,
   "metadata": {},
   "outputs": [
    {
     "name": "stderr",
     "output_type": "stream",
     "text": [
      "2025-06-19 14:42:48,986 [INFO] Processing slope and aspect from DEM.\n",
      "/usr/lib/python3/dist-packages/osgeo/gdal.py:315: FutureWarning: Neither gdal.UseExceptions() nor gdal.DontUseExceptions() has been explicitly called. In GDAL 4.0, exceptions will be enabled by default.\n",
      "  warnings.warn(\n",
      "2025-06-19 14:42:49,079 [INFO] Process era5 for single date'.\n"
     ]
    },
    {
     "name": "stdout",
     "output_type": "stream",
     "text": [
      "Downloading \"100m_u_component_of_wind, 100m_v_component_of_wind, 10m_u_component_of_wind, 10m_v_component_of_wind, 2m_dewpoint_temperature, 2m_temperature, surface_pressure, surface_solar_radiation_downwards, surface_thermal_radiation_downwards, total_column_water_vapour, geopotential\" from the Copernicus Climate Store\n",
      "Querying products for extent [55.819327, 7.773194, 53.71218414285715, 10.103551142857127]\n",
      "..and dates 2023-05-30 00:00:00 to 2023-06-01 00:00:00\n",
      "Processing ECMWF data for UTC time 2023-05-31 11:00:00\n",
      "This may take some time...\n"
     ]
    },
    {
     "name": "stderr",
     "output_type": "stream",
     "text": [
      "2025-06-19 14:42:52,310 [INFO] Renaming output files for clarity.\n",
      "2025-06-19 14:42:52,317 [INFO] Summing DI images.\n"
     ]
    },
    {
     "name": "stdout",
     "output_type": "stream",
     "text": [
      "Saving TA to data/20230531_00e8dda8/meteo_data/20230531T11649_TA.tif\n",
      "Saving EA to data/20230531_00e8dda8/meteo_data/20230531T11649_EA.tif\n",
      "Saving WS to data/20230531_00e8dda8/meteo_data/20230531T11649_WS.tif\n",
      "Saving PA to data/20230531_00e8dda8/meteo_data/20230531T11649_PA.tif\n",
      "Saving AOT to data/20230531_00e8dda8/meteo_data/20230531T11649_AOT.tif\n",
      "Saving TCWV to data/20230531_00e8dda8/meteo_data/20230531T11649_TCWV.tif\n",
      "Saving PAR-DIR to data/20230531_00e8dda8/meteo_data/20230531T11649_PAR-DIR.tif\n",
      "Saving NIR-DIR to data/20230531_00e8dda8/meteo_data/20230531T11649_NIR-DIR.tif\n",
      "Saving PAR-DIF to data/20230531_00e8dda8/meteo_data/20230531T11649_PAR-DIF.tif\n",
      "Saving NIR-DIF to data/20230531_00e8dda8/meteo_data/20230531T11649_NIR-DIF.tif\n",
      "Saving LW-IN to data/20230531_00e8dda8/meteo_data/20230531T11649_LW-IN.tif\n",
      "Saving ETr to data/20230531_00e8dda8/meteo_data/20230531_ETR.tif\n",
      "Saving SW-IN-DD to data/20230531_00e8dda8/meteo_data/20230531_SW-IN-DD.tif\n"
     ]
    },
    {
     "name": "stderr",
     "output_type": "stream",
     "text": [
      "2025-06-19 14:42:52,459 [INFO] Final output saved to: data/20230531_00e8dda8/meteo_data/20230531T11649_S_dn.tif\n"
     ]
    }
   ],
   "source": [
    "meteo_output_path = get_meteo_data(\n",
    "    date = str(date),\n",
    "    bbox = bbox,\n",
    "    dem_path = dem_s3_path,\n",
    "    acq_time = sentinel3_acq_time,\n",
    "    data_dir=dem_s3_path.parent,\n",
    "    cds_credentials_file=\".cdsapirc\",\n",
    "    ads_credentials_file=\".adsapirc\",\n",
    ")"
   ]
  },
  {
   "cell_type": "markdown",
   "metadata": {},
   "source": [
    "## 5. Resample Meteorological to same resolution as Sentinel2"
   ]
  },
  {
   "cell_type": "code",
   "execution_count": null,
   "metadata": {},
   "outputs": [
    {
     "name": "stderr",
     "output_type": "stream",
     "text": [
      "2025-06-19 14:42:56,847 [INFO] Starting resample_s2 processing...\n",
      "2025-06-19 14:42:56,907 [INFO] Using Sentinel-2 extent: (485380.0, 6063050.0, 506620.0, 6074720.0)\n",
      "2025-06-19 14:42:56,909 [INFO] Processing 20230531T11649_S_dn.tif -> data/20230531_00e8dda8/meteo_data/20230531T11649_S_dn.tif\n",
      "2025-06-19 14:42:57,069 [INFO] Processing 20230531T11649_EA.tif -> data/20230531_00e8dda8/meteo_data/20230531T11649_EA.tif\n",
      "2025-06-19 14:42:57,177 [INFO] Processing 20230531T11649_p.tif -> data/20230531_00e8dda8/meteo_data/20230531T11649_p.tif\n",
      "2025-06-19 14:42:57,301 [INFO] Processing 20230531T11649_T_A1.tif -> data/20230531_00e8dda8/meteo_data/20230531T11649_T_A1.tif\n",
      "2025-06-19 14:42:57,454 [INFO] Processing 20230531T11649_u.tif -> data/20230531_00e8dda8/meteo_data/20230531T11649_u.tif\n",
      "2025-06-19 14:42:57,612 [INFO] Processing 20230531_S_dn_24.tif -> data/20230531_00e8dda8/meteo_data/20230531_S_dn_24.tif\n",
      "2025-06-19 14:42:57,766 [INFO] Processing completed successfully.\n",
      "2025-06-19 14:42:57,768 [INFO] Starting resample_s2 processing...\n",
      "2025-06-19 14:42:57,772 [INFO] Using Sentinel-2 extent: (485380.0, 6063050.0, 506620.0, 6074720.0)\n",
      "2025-06-19 14:42:57,774 [INFO] Processing 20230531_VZA.tif -> data/20230531_00e8dda8/20230531_VZA.tif\n",
      "2025-06-19 14:42:58,095 [INFO] Processing completed successfully.\n"
     ]
    }
   ],
   "source": [
    "lai_path = Path(tif_path)/f\"{str(date).replace('-', '')}_LAI.tif\"\n",
    "resample_to_s2(meteo_output_path, meteo_output_path, lai_path, product_list=[\"EA.tif\", \"p.tif\", \"u.tif\", \"S_dn_24.tif\", \"S_dn.tif\", \"T_A1.tif\"])"
   ]
  }
 ],
 "metadata": {
  "kernelspec": {
   "display_name": "Python 3",
   "language": "python",
   "name": "python3"
  },
  "language_info": {
   "codemirror_mode": {
    "name": "ipython",
    "version": 3
   },
   "file_extension": ".py",
   "mimetype": "text/x-python",
   "name": "python",
   "nbconvert_exporter": "python",
   "pygments_lexer": "ipython3",
   "version": "3.12.3"
  }
 },
 "nbformat": 4,
 "nbformat_minor": 2
}
