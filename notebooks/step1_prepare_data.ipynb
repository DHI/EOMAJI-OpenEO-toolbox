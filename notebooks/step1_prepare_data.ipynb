{
 "cells": [
  {
   "cell_type": "code",
   "execution_count": 1,
   "metadata": {},
   "outputs": [],
   "source": [
    "try:\n",
    "    import eomaji\n",
    "except ModuleNotFoundError:\n",
    "    !pip install eomaji@git+https://github.com/DHI/EOMAJI-OpenEO-toolbox.git"
   ]
  },
  {
   "cell_type": "markdown",
   "metadata": {},
   "source": [
    "# Prepare data for PyDMS and ET Flows"
   ]
  },
  {
   "cell_type": "markdown",
   "metadata": {},
   "source": [
    "This notebook can be run on the Copernicus Dataspace Jupyterhub but running the following package installation cell first\n",
    "\n",
    "**Note** You should select on of the kernels with GDAL installed, eg. \"Geo science\""
   ]
  },
  {
   "cell_type": "code",
   "execution_count": 12,
   "metadata": {},
   "outputs": [],
   "source": [
    "import os \n",
    "import openeo\n",
    "from eomaji.utils import draw_utils, date_selector\n",
    "from eomaji.utils.general_utils import dump_area_date_info, read_area_date_info\n",
    "from eomaji.workflows import prepare_data_cubes"
   ]
  },
  {
   "cell_type": "markdown",
   "metadata": {},
   "source": [
    "## 1. Select Area of Interest\n",
    "Draw a polygon on the map, for the area you want to process"
   ]
  },
  {
   "cell_type": "code",
   "execution_count": 13,
   "metadata": {},
   "outputs": [
    {
     "data": {
      "application/vnd.jupyter.widget-view+json": {
       "model_id": "f8fc314d92394530ab1e954fa1ea4a69",
       "version_major": 2,
       "version_minor": 0
      },
      "text/plain": [
       "Map(center=[40, 10], controls=(ZoomControl(options=['position', 'zoom_in_text', 'zoom_in_title', 'zoom_out_tex…"
      ]
     },
     "execution_count": 13,
     "metadata": {},
     "output_type": "execute_result"
    }
   ],
   "source": [
    "map, bboxs = draw_utils.draw_aoi()\n",
    "map"
   ]
  },
  {
   "cell_type": "markdown",
   "metadata": {},
   "source": [
    "## 2. Select Date from Available Dates for Sentinel-3\n",
    "Search for days where sentinel 3 images are available for the given AOI. \n",
    "\n",
    "**Note**: max_cloud_cover refers to the full tile’s coverage, not just your AOI, so results may vary."
   ]
  },
  {
   "cell_type": "code",
   "execution_count": 4,
   "metadata": {},
   "outputs": [
    {
     "data": {
      "application/vnd.jupyter.widget-view+json": {
       "model_id": "e707d89816014671b082b8d464a250c5",
       "version_major": 2,
       "version_minor": 0
      },
      "text/plain": [
       "Dropdown(description='Pick a Date:', options=(('2023-05-12', datetime.date(2023, 5, 12)), ('2023-05-31', datet…"
      ]
     },
     "metadata": {},
     "output_type": "display_data"
    }
   ],
   "source": [
    "# Define search parameters\n",
    "start_date = \"2023-05-01\"\n",
    "end_date = \"2023-07-30\"\n",
    "bbox = bboxs[-1] # If you didn't draw a polygon, please insert a bbox here in the form of [minx, miny, maxx, maxy]\n",
    "max_cloud_cover = 10  # Filter out high-cloud-coverage scenes\n",
    "\n",
    "# Search for available Sentinel-3 imagery\n",
    "date_selection = date_selector.get_available_dates(\n",
    "    start_date=start_date,\n",
    "    end_date=end_date,\n",
    "    bbox=bbox,\n",
    "    max_cloud_cover=max_cloud_cover\n",
    ")"
   ]
  },
  {
   "cell_type": "markdown",
   "metadata": {},
   "source": [
    "## 3. Connect to OpenEO Backend"
   ]
  },
  {
   "cell_type": "code",
   "execution_count": 14,
   "metadata": {},
   "outputs": [
    {
     "name": "stderr",
     "output_type": "stream",
     "text": [
      "2025-06-23 12:52:16,432 [INFO] Found OIDC providers: ['CDSE']\n",
      "2025-06-23 12:52:16,438 [INFO] No OIDC provider given, but only one available: 'CDSE'. Using that one.\n",
      "2025-06-23 12:52:16,764 [INFO] Using default client_id 'sh-b1c3a958-52d4-40fe-a333-153595d1c71e' from OIDC provider 'CDSE' info.\n",
      "2025-06-23 12:52:16,844 [INFO] Found refresh token: trying refresh token based authentication.\n",
      "2025-06-23 12:52:16,847 [INFO] Doing 'refresh_token' token request 'https://identity.dataspace.copernicus.eu/auth/realms/CDSE/protocol/openid-connect/token' with post data fields ['grant_type', 'client_id', 'refresh_token'] (client_id 'sh-b1c3a958-52d4-40fe-a333-153595d1c71e')\n",
      "2025-06-23 12:52:17,390 [INFO] Obtained tokens: ['access_token', 'id_token', 'refresh_token']\n",
      "2025-06-23 12:52:17,393 [INFO] Storing refresh token for issuer 'https://identity.dataspace.copernicus.eu/auth/realms/CDSE' (client 'sh-b1c3a958-52d4-40fe-a333-153595d1c71e')\n"
     ]
    },
    {
     "name": "stdout",
     "output_type": "stream",
     "text": [
      "Authenticated using refresh token.\n"
     ]
    },
    {
     "data": {
      "text/plain": [
       "<Connection to 'https://openeo.dataspace.copernicus.eu/openeo/1.2/' with OidcBearerAuth>"
      ]
     },
     "execution_count": 14,
     "metadata": {},
     "output_type": "execute_result"
    }
   ],
   "source": [
    "connection = openeo.connect(\"https://openeo.dataspace.copernicus.eu\")\n",
    "connection.authenticate_oidc()"
   ]
  },
  {
   "cell_type": "markdown",
   "metadata": {},
   "source": [
    "## 4. Download Sentinel 2 and Sentinel 3 data for the specified AOI and date"
   ]
  },
  {
   "cell_type": "code",
   "execution_count": null,
   "metadata": {},
   "outputs": [],
   "source": [
    "data_dir = \"./data\"\n",
    "if not os.path.isdir(data_dir):\n",
    "    os.mkdir(data_dir)\n",
    "\n",
    "date = date_selection.value\n",
    "#date, bbox = read_area_date_info(\n",
    "#    dir=data_dir\n",
    "#) # <-- USE THIS IF YOU WANT TO REUSE BBOX AND DATE FROM FILE"
   ]
  },
  {
   "cell_type": "code",
   "execution_count": 17,
   "metadata": {},
   "outputs": [
    {
     "name": "stderr",
     "output_type": "stream",
     "text": [
      "2025-06-23 12:52:30,441 [INFO] Cached Sentinel 2 data cube found. Skipping download.\n",
      "/usr/local/lib/python3.12/dist-packages/openeo/rest/connection.py:1171: UserWarning: Property filtering with unsupported properties according to collection/STAC metadata: {'timeliness', 'orbitDirection'} (supported: dict_keys(['bands', 'eo:bands', 'raster:bands'])).\n",
      "  return DataCube.load_collection(\n",
      "2025-06-23 12:52:46,422 [INFO] Cached DEM data cube found. Skipping download.\n",
      "2025-06-23 12:52:46,425 [INFO] Cached DEM cube found. Skipping download.\n",
      "2025-06-23 12:52:46,501 [INFO] Cached Worldcover cube found. Skipping download.\n",
      "2025-06-23 12:52:46,781 [INFO] Job j-2506231252314ad5ab9272dadc197369 status: created\n",
      "2025-06-23 12:52:57,034 [INFO] Job j-2506231252314ad5ab9272dadc197369 status: created\n",
      "2025-06-23 12:53:07,230 [INFO] Job j-2506231252314ad5ab9272dadc197369 status: created\n",
      "2025-06-23 12:53:17,428 [INFO] Job j-2506231252314ad5ab9272dadc197369 status: running\n",
      "2025-06-23 12:53:27,846 [INFO] Job j-2506231252314ad5ab9272dadc197369 status: running\n",
      "2025-06-23 12:53:38,086 [INFO] Job j-2506231252314ad5ab9272dadc197369 status: running\n",
      "2025-06-23 12:53:48,300 [INFO] Job j-2506231252314ad5ab9272dadc197369 status: running\n",
      "2025-06-23 12:53:58,438 [INFO] Job j-2506231252314ad5ab9272dadc197369 status: running\n",
      "2025-06-23 12:54:08,647 [INFO] Job j-2506231252314ad5ab9272dadc197369 status: running\n",
      "2025-06-23 12:54:18,844 [INFO] Job j-2506231252314ad5ab9272dadc197369 status: running\n",
      "2025-06-23 12:54:28,978 [INFO] Job j-2506231252314ad5ab9272dadc197369 status: running\n",
      "2025-06-23 12:54:39,241 [INFO] Job j-2506231252314ad5ab9272dadc197369 status: running\n",
      "2025-06-23 12:54:49,464 [INFO] Job j-2506231252314ad5ab9272dadc197369 status: running\n",
      "2025-06-23 12:54:59,611 [INFO] Job j-2506231252314ad5ab9272dadc197369 status: running\n",
      "2025-06-23 12:55:09,912 [INFO] Job j-2506231252314ad5ab9272dadc197369 status: running\n",
      "2025-06-23 12:55:20,053 [INFO] Job j-2506231252314ad5ab9272dadc197369 status: running\n",
      "2025-06-23 12:55:30,224 [INFO] Job j-2506231252314ad5ab9272dadc197369 status: running\n",
      "2025-06-23 12:55:40,454 [INFO] Job j-2506231252314ad5ab9272dadc197369 status: running\n",
      "2025-06-23 12:55:50,604 [INFO] Job j-2506231252314ad5ab9272dadc197369 status: running\n",
      "2025-06-23 12:56:00,837 [INFO] Job j-2506231252314ad5ab9272dadc197369 status: running\n",
      "2025-06-23 12:56:11,145 [INFO] Job j-2506231252314ad5ab9272dadc197369 status: running\n",
      "2025-06-23 12:56:21,294 [INFO] Job j-2506231252314ad5ab9272dadc197369 status: finished\n",
      "2025-06-23 12:56:21,459 [WARNING] Result not ready yet for job j-2506231252314ad5ab9272dadc197369: [400] JobNotFinished: Batch job has not finished computing the results yet. Please try again later or contact our support. (ref: r-2506231256214130ab658ef4cacd86c6)\n",
      "2025-06-23 12:56:26,846 [INFO] Downloading Job result asset 'openEO.tif' from https://openeo.dataspace.copernicus.eu/openeo/1.2/jobs/j-2506231252314ad5ab9272dadc197369/results/assets/ZTlhMGJlNzktY2QxYy00YzFmLWI0OTgtZjJiZTNjZTYwN2Mx/fad5c48bba966232559e1cc555d8e0c0/openEO.tif?expires=1751288186 to data/20230512_a424ae75/20230512_VZA.tif\n",
      "2025-06-23 12:56:31,254 [INFO] Downloaded result for job j-2506231252314ad5ab9272dadc197369 to data/20230512_a424ae75/20230512_VZA.tif\n",
      "2025-06-23 12:56:31,259 [INFO] Data cubes prepared and saved.\n"
     ]
    }
   ],
   "source": [
    "s2_path, s3_path, vza_path, worldcover_path, dem_s2_path, dem_s3_path, sentinel3_acq_time, = prepare_data_cubes.prepare_data_cubes(\n",
    "    connection=connection,\n",
    "    bbox=bbox,\n",
    "    date=date,\n",
    "    sentinel2_search_range = 3,\n",
    "    out_dir = data_dir,\n",
    ")"
   ]
  },
  {
   "cell_type": "markdown",
   "metadata": {},
   "source": [
    "### Store AOI and Date for use in other notebooks    "
   ]
  },
  {
   "cell_type": "code",
   "execution_count": 18,
   "metadata": {},
   "outputs": [],
   "source": [
    "dump_area_date_info(\n",
    "    date = date, \n",
    "    bbox = bbox, \n",
    "    out_dir = data_dir\n",
    ")"
   ]
  },
  {
   "cell_type": "code",
   "execution_count": null,
   "metadata": {},
   "outputs": [],
   "source": []
  }
 ],
 "metadata": {
  "kernelspec": {
   "display_name": "Python 3",
   "language": "python",
   "name": "python3"
  },
  "language_info": {
   "codemirror_mode": {
    "name": "ipython",
    "version": 3
   },
   "file_extension": ".py",
   "mimetype": "text/x-python",
   "name": "python",
   "nbconvert_exporter": "python",
   "pygments_lexer": "ipython3",
   "version": "3.12.3"
  }
 },
 "nbformat": 4,
 "nbformat_minor": 2
}
