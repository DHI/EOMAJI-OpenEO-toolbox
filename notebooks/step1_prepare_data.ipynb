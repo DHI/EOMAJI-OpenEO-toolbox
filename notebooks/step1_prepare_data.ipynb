{
 "cells": [
  {
   "cell_type": "code",
   "execution_count": 1,
   "metadata": {},
   "outputs": [],
   "source": [
    "try:\n",
    "    import eomaji\n",
    "except ModuleNotFoundError:\n",
    "    !pip install eomaji@git+https://github.com/DHI/EOMAJI-OpenEO-toolbox.git"
   ]
  },
  {
   "cell_type": "markdown",
   "metadata": {},
   "source": [
    "# Prepare data for PyDMS and ET Flows"
   ]
  },
  {
   "cell_type": "markdown",
   "metadata": {},
   "source": [
    "This notebook can be run on the Copernicus Dataspace Jupyterhub but running the following package installation cell first\n",
    "\n",
    "**Note** You should select on of the kernels with GDAL installed, eg. \"Geo science\""
   ]
  },
  {
   "cell_type": "code",
   "execution_count": 4,
   "metadata": {},
   "outputs": [],
   "source": [
    "import os \n",
    "import openeo\n",
    "from eomaji.utils import draw_utils, date_selector\n",
    "from eomaji.utils.general_utils import dump_area_date_info, read_area_date_info\n",
    "from eomaji.workflows import prepare_data_cubes"
   ]
  },
  {
   "cell_type": "markdown",
   "metadata": {},
   "source": [
    "## 1. Select Area of Interest\n",
    "Draw a polygon on the map, for the area you want to process"
   ]
  },
  {
   "cell_type": "code",
   "execution_count": 3,
   "metadata": {},
   "outputs": [
    {
     "data": {
      "application/vnd.jupyter.widget-view+json": {
       "model_id": "82f178b8880c4750a5e0dd71ec28891e",
       "version_major": 2,
       "version_minor": 0
      },
      "text/plain": [
       "Map(center=[40, 10], controls=(ZoomControl(options=['position', 'zoom_in_text', 'zoom_in_title', 'zoom_out_tex…"
      ]
     },
     "execution_count": 3,
     "metadata": {},
     "output_type": "execute_result"
    }
   ],
   "source": [
    "map, bboxs = draw_utils.draw_aoi()\n",
    "map"
   ]
  },
  {
   "cell_type": "markdown",
   "metadata": {},
   "source": [
    "## 2. Select Date from Available Dates for Sentinel-3\n",
    "Search for days where sentinel 3 images are available for the given AOI. \n",
    "\n",
    "**Note**: max_cloud_cover refers to the full tile’s coverage, not just your AOI, so results may vary."
   ]
  },
  {
   "cell_type": "code",
   "execution_count": 4,
   "metadata": {},
   "outputs": [
    {
     "data": {
      "application/vnd.jupyter.widget-view+json": {
       "model_id": "e707d89816014671b082b8d464a250c5",
       "version_major": 2,
       "version_minor": 0
      },
      "text/plain": [
       "Dropdown(description='Pick a Date:', options=(('2023-05-12', datetime.date(2023, 5, 12)), ('2023-05-31', datet…"
      ]
     },
     "metadata": {},
     "output_type": "display_data"
    }
   ],
   "source": [
    "# Define search parameters\n",
    "start_date = \"2023-05-01\"\n",
    "end_date = \"2023-07-30\"\n",
    "bbox = bboxs[-1] # If you didn't draw a polygon, please insert a bbox here in the form of [minx, miny, maxx, maxy]\n",
    "max_cloud_cover = 10  # Filter out high-cloud-coverage scenes\n",
    "\n",
    "# Search for available Sentinel-3 imagery\n",
    "date_selection = date_selector.get_available_dates(\n",
    "    start_date=start_date,\n",
    "    end_date=end_date,\n",
    "    bbox=bbox,\n",
    "    max_cloud_cover=max_cloud_cover\n",
    ")"
   ]
  },
  {
   "cell_type": "markdown",
   "metadata": {},
   "source": [
    "## 3. Connect to OpenEO Backend"
   ]
  },
  {
   "cell_type": "code",
   "execution_count": 7,
   "metadata": {},
   "outputs": [
    {
     "name": "stderr",
     "output_type": "stream",
     "text": [
      "2025-06-23 11:28:28,105 [INFO] Loaded openEO client config from sources: []\n",
      "2025-06-23 11:28:28,757 [INFO] Found OIDC providers: ['CDSE']\n",
      "2025-06-23 11:28:28,759 [INFO] No OIDC provider given, but only one available: 'CDSE'. Using that one.\n",
      "2025-06-23 11:28:29,246 [INFO] Using default client_id 'sh-b1c3a958-52d4-40fe-a333-153595d1c71e' from OIDC provider 'CDSE' info.\n",
      "2025-06-23 11:28:29,251 [INFO] Found refresh token: trying refresh token based authentication.\n",
      "2025-06-23 11:28:29,254 [INFO] Doing 'refresh_token' token request 'https://identity.dataspace.copernicus.eu/auth/realms/CDSE/protocol/openid-connect/token' with post data fields ['grant_type', 'client_id', 'refresh_token'] (client_id 'sh-b1c3a958-52d4-40fe-a333-153595d1c71e')\n",
      "2025-06-23 11:28:29,818 [INFO] Obtained tokens: ['access_token', 'id_token', 'refresh_token']\n",
      "2025-06-23 11:28:29,821 [INFO] Storing refresh token for issuer 'https://identity.dataspace.copernicus.eu/auth/realms/CDSE' (client 'sh-b1c3a958-52d4-40fe-a333-153595d1c71e')\n"
     ]
    },
    {
     "name": "stdout",
     "output_type": "stream",
     "text": [
      "Authenticated using refresh token.\n"
     ]
    },
    {
     "data": {
      "text/plain": [
       "<Connection to 'https://openeo.dataspace.copernicus.eu/openeo/1.2/' with OidcBearerAuth>"
      ]
     },
     "execution_count": 7,
     "metadata": {},
     "output_type": "execute_result"
    }
   ],
   "source": [
    "connection = openeo.connect(\"https://openeo.dataspace.copernicus.eu\")\n",
    "connection.authenticate_oidc()"
   ]
  },
  {
   "cell_type": "markdown",
   "metadata": {},
   "source": [
    "## 4. Download Sentinel 2 and Sentinel 3 data for the specified AOI and date"
   ]
  },
  {
   "cell_type": "code",
   "execution_count": null,
   "metadata": {},
   "outputs": [],
   "source": [
    "data_dir = \"./data\"\n",
    "if not os.path.isdir(data_dir):\n",
    "    os.mkdir(data_dir)\n",
    "\n",
    "date = date_selection.value\n",
    "#date, bbox = read_area_date_info(\n",
    "#    dir=data_dir\n",
    "#) # <-- USE THIS IF YOU WANT TO REUSE BBOX AND DATE FROM FILE"
   ]
  },
  {
   "cell_type": "code",
   "execution_count": 8,
   "metadata": {},
   "outputs": [
    {
     "name": "stderr",
     "output_type": "stream",
     "text": [
      "2025-06-23 11:28:46,811 [INFO] Cached Sentinel 2 data cube found. Skipping download.\n",
      "/usr/local/lib/python3.12/dist-packages/openeo/rest/connection.py:1171: UserWarning: Property filtering with unsupported properties according to collection/STAC metadata: {'timeliness', 'orbitDirection'} (supported: dict_keys(['bands', 'eo:bands', 'raster:bands'])).\n",
      "  return DataCube.load_collection(\n",
      "2025-06-23 11:28:46,875 [INFO] Cached VZA cube found. Skipping download.\n",
      "2025-06-23 11:28:46,939 [INFO] Cached DEM data cube found. Skipping download.\n",
      "2025-06-23 11:28:46,941 [INFO] Cached DEM cube found. Skipping download.\n",
      "2025-06-23 11:28:46,997 [INFO] Cached Worldcover cube found. Skipping download.\n",
      "2025-06-23 11:28:46,999 [INFO] Data cubes prepared and saved.\n"
     ]
    }
   ],
   "source": [
    "s2_path, s3_path, vza_path, worldcover_path, dem_s2_path, dem_s3_path, sentinel3_acq_time, = prepare_data_cubes.prepare_data_cubes(\n",
    "    connection=connection,\n",
    "    bbox=bbox,\n",
    "    date=date,\n",
    "    sentinel2_search_range = 3,\n",
    "    out_dir = data_dir,\n",
    ")"
   ]
  },
  {
   "cell_type": "markdown",
   "metadata": {},
   "source": [
    "### Store AOI and Date for use in other notebooks    "
   ]
  },
  {
   "cell_type": "code",
   "execution_count": 10,
   "metadata": {},
   "outputs": [],
   "source": [
    "dump_area_date_info(\n",
    "    date = date, \n",
    "    bbox = bbox, \n",
    "    out_dir = data_dir\n",
    ")"
   ]
  },
  {
   "cell_type": "code",
   "execution_count": null,
   "metadata": {},
   "outputs": [],
   "source": []
  }
 ],
 "metadata": {
  "kernelspec": {
   "display_name": "Python 3",
   "language": "python",
   "name": "python3"
  },
  "language_info": {
   "codemirror_mode": {
    "name": "ipython",
    "version": 3
   },
   "file_extension": ".py",
   "mimetype": "text/x-python",
   "name": "python",
   "nbconvert_exporter": "python",
   "pygments_lexer": "ipython3",
   "version": "3.12.3"
  }
 },
 "nbformat": 4,
 "nbformat_minor": 2
}
