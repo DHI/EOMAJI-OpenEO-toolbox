{
 "cells": [
  {
   "cell_type": "markdown",
   "metadata": {},
   "source": [
    "This notebook can be run on the Copernicus Dataspace Jupyterhub but running the following package installation cell first\n",
    "\n",
    "**Note** You should select on of the kernels with GDAL installed, eg. \"Geo science\""
   ]
  },
  {
   "cell_type": "code",
   "execution_count": 1,
   "metadata": {},
   "outputs": [],
   "source": [
    "!pip install eomaji@git+https://github.com/DHI/EOMAJI-OpenEO-toolbox.git"
   ]
  },
  {
   "cell_type": "markdown",
   "metadata": {},
   "source": [
    "# Meteorological & Biophysical Parameter Workflow"
   ]
  },
  {
   "cell_type": "code",
   "execution_count": 1,
   "metadata": {},
   "outputs": [],
   "source": [
    "import openeo\n",
    "import os\n",
    "from eomaji.workflows.meteo_preprocessing import get_meteo_data, resample_meteo_to_s2\n",
    "from eomaji.workflows.sentinel2_preprocessing import get_s2_data"
   ]
  },
  {
   "cell_type": "markdown",
   "metadata": {},
   "source": [
    "### Set up the OpenEO connection"
   ]
  },
  {
   "cell_type": "code",
   "execution_count": 2,
   "metadata": {},
   "outputs": [
    {
     "name": "stderr",
     "output_type": "stream",
     "text": [
      "2025-01-31 08:56:02,560 [INFO] Loaded openEO client config from sources: []\n",
      "2025-01-31 08:56:03,068 [INFO] Found OIDC providers: ['CDSE']\n",
      "2025-01-31 08:56:03,069 [INFO] No OIDC provider given, but only one available: 'CDSE'. Using that one.\n",
      "2025-01-31 08:56:03,442 [INFO] Created user dir for 'openeo-python-client': /root/.config/openeo-python-client\n",
      "2025-01-31 08:56:03,445 [INFO] Using default client_id 'sh-b1c3a958-52d4-40fe-a333-153595d1c71e' from OIDC provider 'CDSE' info.\n",
      "2025-01-31 08:56:03,450 [INFO] Created user dir for 'openeo-python-client': /root/.local/share/openeo-python-client\n",
      "2025-01-31 08:56:03,452 [INFO] Trying device code flow.\n"
     ]
    },
    {
     "data": {
      "text/html": [
       "Visit <a href=\"https://identity.dataspace.copernicus.eu/auth/realms/CDSE/device?user_code=FLJU-GWWU\" title=\"Authenticate at https://identity.dataspace.copernicus.eu/auth/realms/CDSE/device?user_code=FLJU-GWWU\" target=\"_blank\" rel=\"noopener noreferrer\">https://identity.dataspace.copernicus.eu/auth/realms/CDSE/device?user_code=FLJU-GWWU</a> <a href=\"#\" onclick=\"navigator.clipboard.writeText('https://identity.dataspace.copernicus.eu/auth/realms/CDSE/device?user_code=FLJU-GWWU');return false;\" title=\"Copy authentication URL to clipboard\">&#128203;</a> to authenticate."
      ]
     },
     "metadata": {},
     "output_type": "display_data"
    },
    {
     "data": {
      "text/html": [
       "✅ Authorized successfully"
      ]
     },
     "metadata": {},
     "output_type": "display_data"
    },
    {
     "name": "stderr",
     "output_type": "stream",
     "text": [
      "2025-01-31 08:56:09,700 [INFO] [  6.1s] not authorized yet: authorization_pending\n",
      "2025-01-31 08:56:15,798 [INFO] [ 12.2s] not authorized yet: authorization_pending\n",
      "2025-01-31 08:56:21,872 [INFO] [ 18.2s] not authorized yet: authorization_pending\n",
      "2025-01-31 08:56:27,984 [INFO] [ 24.4s] not authorized yet: authorization_pending\n",
      "2025-01-31 08:56:34,072 [INFO] [ 30.4s] not authorized yet: authorization_pending\n",
      "2025-01-31 08:56:40,340 [INFO] [ 36.7s] Authorized successfully.\n",
      "2025-01-31 08:56:40,345 [INFO] Obtained tokens: ['access_token', 'id_token', 'refresh_token']\n",
      "2025-01-31 08:56:40,346 [INFO] Storing refresh token for issuer 'https://identity.dataspace.copernicus.eu/auth/realms/CDSE' (client 'sh-b1c3a958-52d4-40fe-a333-153595d1c71e')\n"
     ]
    },
    {
     "name": "stdout",
     "output_type": "stream",
     "text": [
      "Authenticated using device code flow.\n"
     ]
    },
    {
     "data": {
      "text/plain": [
       "<Connection to 'https://openeo.dataspace.copernicus.eu/openeo/1.2/' with OidcBearerAuth>"
      ]
     },
     "execution_count": 2,
     "metadata": {},
     "output_type": "execute_result"
    }
   ],
   "source": [
    "connection = openeo.connect(\"https://openeo.dataspace.copernicus.eu\")\n",
    "connection.authenticate_oidc()"
   ]
  },
  {
   "cell_type": "markdown",
   "metadata": {},
   "source": [
    "### Define the date and the area of interest"
   ]
  },
  {
   "cell_type": "code",
   "execution_count": 3,
   "metadata": {},
   "outputs": [],
   "source": [
    "bounding_box = [8.16, 56.48, 8.24, 56.53]\n",
    "date = \"2023-06-11\"\n",
    "data_path = \"./data\""
   ]
  },
  {
   "cell_type": "markdown",
   "metadata": {},
   "source": [
    "### Download and preprocess the Sentinel2 data"
   ]
  },
  {
   "cell_type": "code",
   "execution_count": 4,
   "metadata": {},
   "outputs": [
    {
     "name": "stderr",
     "output_type": "stream",
     "text": [
      "/usr/local/lib/python3.10/dist-packages/openeo/rest/connection.py:1319: UserWarning: SENTINEL3_SLSTR_L2_LST property filtering with properties that are undefined in the collection metadata (summaries): timeliness, orbitDirection.\n",
      "  return DataCube.load_collection(\n"
     ]
    },
    {
     "name": "stdout",
     "output_type": "stream",
     "text": [
      "0:00:00 Job 'j-2501310856534dad860e9edba1e979bb': send 'start'\n",
      "0:00:21 Job 'j-2501310856534dad860e9edba1e979bb': queued (progress 0%)\n",
      "0:00:26 Job 'j-2501310856534dad860e9edba1e979bb': queued (progress 0%)\n",
      "0:00:33 Job 'j-2501310856534dad860e9edba1e979bb': queued (progress 0%)\n",
      "0:00:41 Job 'j-2501310856534dad860e9edba1e979bb': queued (progress 0%)\n",
      "0:00:51 Job 'j-2501310856534dad860e9edba1e979bb': queued (progress 0%)\n",
      "0:01:03 Job 'j-2501310856534dad860e9edba1e979bb': queued (progress 0%)\n",
      "0:01:19 Job 'j-2501310856534dad860e9edba1e979bb': running (progress N/A)\n",
      "0:01:38 Job 'j-2501310856534dad860e9edba1e979bb': running (progress N/A)\n",
      "0:02:02 Job 'j-2501310856534dad860e9edba1e979bb': running (progress N/A)\n",
      "0:02:32 Job 'j-2501310856534dad860e9edba1e979bb': running (progress N/A)\n",
      "0:03:10 Job 'j-2501310856534dad860e9edba1e979bb': running (progress N/A)\n",
      "0:03:56 Job 'j-2501310856534dad860e9edba1e979bb': finished (progress 100%)\n"
     ]
    },
    {
     "name": "stderr",
     "output_type": "stream",
     "text": [
      "2025-01-31 09:00:50,676 [INFO] Downloading Job result asset 'openEO.nc' from https://openeo.dataspace.copernicus.eu/openeo/1.2/jobs/j-2501310856534dad860e9edba1e979bb/results/assets/ZTlhMGJlNzktY2QxYy00YzFmLWI0OTgtZjJiZTNjZTYwN2Mx/6497571133e66717d47aaa5caea2fc69/openEO.nc?expires=1738918850 to data/s2_data/2023/06/11/s2_data.nc\n"
     ]
    },
    {
     "name": "stdout",
     "output_type": "stream",
     "text": [
      "Saved FAPAR to data/s2_data/2023/06/11/20230611_FAPAR.tif\n",
      "Saved LAI to data/s2_data/2023/06/11/20230611_LAI.tif\n",
      "Saved FCOVER to data/s2_data/2023/06/11/20230611_FCOVER.tif\n",
      "Saved CCC to data/s2_data/2023/06/11/20230611_CCC.tif\n",
      "Saved CWC to data/s2_data/2023/06/11/20230611_CWC.tif\n",
      "Saved SCL to data/s2_data/2023/06/11/20230611_SCL.tif\n",
      "Saved sunZenithAngles to data/s2_data/2023/06/11/20230611_SZA.tif\n",
      "0:00:00 Job 'j-250131090103480ea56d5123b0833d88': send 'start'\n",
      "0:00:20 Job 'j-250131090103480ea56d5123b0833d88': created (progress 0%)\n",
      "0:00:25 Job 'j-250131090103480ea56d5123b0833d88': created (progress 0%)\n",
      "0:00:31 Job 'j-250131090103480ea56d5123b0833d88': created (progress 0%)\n",
      "0:00:39 Job 'j-250131090103480ea56d5123b0833d88': created (progress 0%)\n",
      "0:00:49 Job 'j-250131090103480ea56d5123b0833d88': created (progress 0%)\n",
      "0:01:02 Job 'j-250131090103480ea56d5123b0833d88': running (progress N/A)\n",
      "0:01:17 Job 'j-250131090103480ea56d5123b0833d88': running (progress N/A)\n",
      "0:01:37 Job 'j-250131090103480ea56d5123b0833d88': running (progress N/A)\n",
      "0:02:02 Job 'j-250131090103480ea56d5123b0833d88': running (progress N/A)\n",
      "0:02:32 Job 'j-250131090103480ea56d5123b0833d88': finished (progress 100%)\n"
     ]
    },
    {
     "name": "stderr",
     "output_type": "stream",
     "text": [
      "2025-01-31 09:03:36,776 [INFO] Downloading Job result asset 'openEO_2011-01-27Z.tif' from https://openeo.dataspace.copernicus.eu/openeo/1.2/jobs/j-250131090103480ea56d5123b0833d88/results/assets/ZTlhMGJlNzktY2QxYy00YzFmLWI0OTgtZjJiZTNjZTYwN2Mx/de17f7e74c9ff8d7ce4480e29550d4c4/openEO_2011-01-27Z.tif?expires=1738919016 to data/s2_data/2023/06/11/20230611_ELEV.tif\n"
     ]
    },
    {
     "name": "stdout",
     "output_type": "stream",
     "text": [
      "0:00:00 Job 'j-250131090347498ba0192b8b9274ff2f': send 'start'\n",
      "0:00:20 Job 'j-250131090347498ba0192b8b9274ff2f': created (progress 0%)\n",
      "0:00:26 Job 'j-250131090347498ba0192b8b9274ff2f': queued (progress 0%)\n",
      "0:00:33 Job 'j-250131090347498ba0192b8b9274ff2f': queued (progress 0%)\n",
      "0:00:41 Job 'j-250131090347498ba0192b8b9274ff2f': queued (progress 0%)\n",
      "0:00:51 Job 'j-250131090347498ba0192b8b9274ff2f': queued (progress 0%)\n",
      "0:01:03 Job 'j-250131090347498ba0192b8b9274ff2f': queued (progress 0%)\n",
      "0:01:19 Job 'j-250131090347498ba0192b8b9274ff2f': running (progress N/A)\n",
      "0:01:38 Job 'j-250131090347498ba0192b8b9274ff2f': running (progress N/A)\n",
      "0:02:02 Job 'j-250131090347498ba0192b8b9274ff2f': running (progress N/A)\n",
      "0:02:32 Job 'j-250131090347498ba0192b8b9274ff2f': running (progress N/A)\n",
      "0:03:09 Job 'j-250131090347498ba0192b8b9274ff2f': running (progress N/A)\n",
      "0:03:56 Job 'j-250131090347498ba0192b8b9274ff2f': finished (progress 100%)\n"
     ]
    },
    {
     "name": "stderr",
     "output_type": "stream",
     "text": [
      "2025-01-31 09:07:44,866 [INFO] Downloading Job result asset 'openEO_2021-01-01Z.tif' from https://openeo.dataspace.copernicus.eu/openeo/1.2/jobs/j-250131090347498ba0192b8b9274ff2f/results/assets/ZTlhMGJlNzktY2QxYy00YzFmLWI0OTgtZjJiZTNjZTYwN2Mx/0b56c9dcf002d8aef62d15f6b7d981fb/openEO_2021-01-01Z.tif?expires=1738919264 to data/s2_data/2023/06/11/WordlCover2021.tif\n"
     ]
    },
    {
     "name": "stdout",
     "output_type": "stream",
     "text": [
      "0:00:00 Job 'j-2501310907524d0e8feb4d817d945088': send 'start'\n",
      "0:00:22 Job 'j-2501310907524d0e8feb4d817d945088': queued (progress 0%)\n",
      "0:00:27 Job 'j-2501310907524d0e8feb4d817d945088': queued (progress 0%)\n",
      "0:00:33 Job 'j-2501310907524d0e8feb4d817d945088': queued (progress 0%)\n",
      "0:00:41 Job 'j-2501310907524d0e8feb4d817d945088': queued (progress 0%)\n",
      "0:00:51 Job 'j-2501310907524d0e8feb4d817d945088': queued (progress 0%)\n",
      "0:01:04 Job 'j-2501310907524d0e8feb4d817d945088': queued (progress 0%)\n",
      "0:01:19 Job 'j-2501310907524d0e8feb4d817d945088': running (progress N/A)\n",
      "0:01:38 Job 'j-2501310907524d0e8feb4d817d945088': running (progress N/A)\n",
      "0:02:02 Job 'j-2501310907524d0e8feb4d817d945088': running (progress N/A)\n",
      "0:02:32 Job 'j-2501310907524d0e8feb4d817d945088': running (progress N/A)\n",
      "0:03:10 Job 'j-2501310907524d0e8feb4d817d945088': running (progress N/A)\n",
      "0:03:57 Job 'j-2501310907524d0e8feb4d817d945088': running (progress N/A)\n",
      "0:04:55 Job 'j-2501310907524d0e8feb4d817d945088': finished (progress 100%)\n"
     ]
    },
    {
     "name": "stderr",
     "output_type": "stream",
     "text": [
      "2025-01-31 09:12:49,198 [INFO] Downloading Job result asset 'openEO.nc' from https://openeo.dataspace.copernicus.eu/openeo/1.2/jobs/j-2501310907524d0e8feb4d817d945088/results/assets/ZTlhMGJlNzktY2QxYy00YzFmLWI0OTgtZjJiZTNjZTYwN2Mx/85b7e9897c09f59129b94a7e224bc4f3/openEO.nc?expires=1738919569 to data/s2_data/2023/06/11/lst_data.nc\n"
     ]
    },
    {
     "name": "stdout",
     "output_type": "stream",
     "text": [
      "0:00:00 Job 'j-250131091303497e84b5b19fe558a67e': send 'start'\n",
      "0:00:23 Job 'j-250131091303497e84b5b19fe558a67e': created (progress 0%)\n",
      "0:00:28 Job 'j-250131091303497e84b5b19fe558a67e': created (progress 0%)\n",
      "0:00:35 Job 'j-250131091303497e84b5b19fe558a67e': created (progress 0%)\n",
      "0:00:43 Job 'j-250131091303497e84b5b19fe558a67e': created (progress 0%)\n",
      "0:00:53 Job 'j-250131091303497e84b5b19fe558a67e': created (progress 0%)\n",
      "0:01:05 Job 'j-250131091303497e84b5b19fe558a67e': queued (progress 0%)\n",
      "0:01:20 Job 'j-250131091303497e84b5b19fe558a67e': queued (progress 0%)\n",
      "0:01:40 Job 'j-250131091303497e84b5b19fe558a67e': queued (progress 0%)\n",
      "0:02:04 Job 'j-250131091303497e84b5b19fe558a67e': queued (progress 0%)\n",
      "0:02:34 Job 'j-250131091303497e84b5b19fe558a67e': queued (progress 0%)\n",
      "0:03:11 Job 'j-250131091303497e84b5b19fe558a67e': running (progress N/A)\n",
      "0:03:58 Job 'j-250131091303497e84b5b19fe558a67e': running (progress N/A)\n",
      "0:04:56 Job 'j-250131091303497e84b5b19fe558a67e': running (progress N/A)\n",
      "0:05:57 Job 'j-250131091303497e84b5b19fe558a67e': running (progress N/A)\n",
      "0:06:57 Job 'j-250131091303497e84b5b19fe558a67e': running (progress N/A)\n",
      "0:07:57 Job 'j-250131091303497e84b5b19fe558a67e': finished (progress 100%)\n"
     ]
    },
    {
     "name": "stderr",
     "output_type": "stream",
     "text": [
      "2025-01-31 09:21:01,665 [INFO] Downloading Job result asset 'openEO.nc' from https://openeo.dataspace.copernicus.eu/openeo/1.2/jobs/j-250131091303497e84b5b19fe558a67e/results/assets/ZTlhMGJlNzktY2QxYy00YzFmLWI0OTgtZjJiZTNjZTYwN2Mx/d58798e72e108dc40090284f02893b03/openEO.nc?expires=1738920061 to data/s2_data/2023/06/11/vza_data.nc\n",
      "2025-01-31 09:21:07,639 [INFO] Saved raster: ./data/s2_data/2023/06/11/20230611_RHO_VIS_C.tif\n",
      "2025-01-31 09:21:07,642 [INFO] Saved raster: ./data/s2_data/2023/06/11/20230611_TAU_VIS_C.tif\n",
      "2025-01-31 09:21:07,642 [INFO] Processed LAI to VIS: ./data/s2_data/2023/06/11/20230611_RHO_VIS_C.tif, ./data/s2_data/2023/06/11/20230611_TAU_VIS_C.tif\n",
      "2025-01-31 09:21:07,649 [INFO] Saved raster: ./data/s2_data/2023/06/11/20230611_RHO_NIR_C.tif\n",
      "2025-01-31 09:21:07,651 [INFO] Saved raster: ./data/s2_data/2023/06/11/20230611_TAU_NIR_C.tif\n",
      "2025-01-31 09:21:07,652 [INFO] Processed CWC to NIR: ./data/s2_data/2023/06/11/20230611_RHO_NIR_C.tif, ./data/s2_data/2023/06/11/20230611_TAU_NIR_C.tif\n"
     ]
    },
    {
     "name": "stdout",
     "output_type": "stream",
     "text": [
      "Saved LST to data/s2_data/2023/06/11/20230611T093800_LST.tif\n",
      "Saved viewZenithAngles to data/s2_data/2023/06/11/20230611_VZA.tif\n",
      "Saved frac_green to ./data/s2_data/2023/06/11/20230611_F_G.tif\n",
      "Saved H_C to ./data/s2_data/2023/06/11/20230611_H_C.tif\n",
      "Saved veg_height_width_ratio to ./data/s2_data/2023/06/11/20230611_W_C.tif\n",
      "Saved veg_leaf_width to ./data/s2_data/2023/06/11/20230611_LEAF_WIDTH.tif\n"
     ]
    }
   ],
   "source": [
    "cubes, s2_output_path = get_s2_data(\n",
    "    connection=connection, bbox=bounding_box, date=date, data_dir=data_path\n",
    ")"
   ]
  },
  {
   "cell_type": "markdown",
   "metadata": {},
   "source": [
    "### Get Meteorological Data\n",
    "Fetch data from Sentinel3, Atmosphere Data Store and Climate Data Store and calculate meteorological featurel\n",
    "\n",
    "The notebook depends on [Climate Data Store](https://cds.climate.copernicus.eu/) and the [Atmosphere Data Store](https://cds.climate.copernicus.eu/). To access data from these two sources you need an API key as described in the documentation:\n",
    "* [CDS User Guide](https://cds.climate.copernicus.eu/how-to-api) \n",
    "\n",
    "To run the next functions, you need to create a ```.adsapirc``` and a ```.cdsapirc``` file with the API key like this:\n",
    "\n",
    "``` bash\n",
    ".adsapirc\n",
    "url: https://ads.atmosphere.copernicus.eu/api\n",
    "key: <api_key>\n",
    "```\n",
    "and\n",
    "```` bash\n",
    ".cdsapirc\n",
    "url: https://cds.climate.copernicus.eu/api\n",
    "key: <api_key>\n",
    "````"
   ]
  },
  {
   "cell_type": "code",
   "execution_count": 5,
   "metadata": {},
   "outputs": [
    {
     "name": "stderr",
     "output_type": "stream",
     "text": [
      "/usr/local/lib/python3.10/dist-packages/openeo/rest/connection.py:1319: UserWarning: SENTINEL3_SLSTR_L2_LST property filtering with properties that are undefined in the collection metadata (summaries): timeliness, orbitDirection.\n",
      "  return DataCube.load_collection(\n",
      "2025-01-31 09:23:42,352 [INFO] Downloading and Resampling DEM for area\n"
     ]
    },
    {
     "name": "stdout",
     "output_type": "stream",
     "text": [
      "0:00:00 Job 'j-2501310923424d73b700b85a46537a55': send 'start'\n",
      "0:00:15 Job 'j-2501310923424d73b700b85a46537a55': created (progress 0%)\n",
      "0:00:21 Job 'j-2501310923424d73b700b85a46537a55': created (progress 0%)\n",
      "0:00:27 Job 'j-2501310923424d73b700b85a46537a55': queued (progress 0%)\n",
      "0:00:35 Job 'j-2501310923424d73b700b85a46537a55': queued (progress 0%)\n",
      "0:00:45 Job 'j-2501310923424d73b700b85a46537a55': queued (progress 0%)\n",
      "0:00:57 Job 'j-2501310923424d73b700b85a46537a55': queued (progress 0%)\n",
      "0:01:13 Job 'j-2501310923424d73b700b85a46537a55': queued (progress 0%)\n",
      "0:01:32 Job 'j-2501310923424d73b700b85a46537a55': running (progress N/A)\n",
      "0:01:56 Job 'j-2501310923424d73b700b85a46537a55': running (progress N/A)\n",
      "0:02:26 Job 'j-2501310923424d73b700b85a46537a55': running (progress N/A)\n",
      "0:03:04 Job 'j-2501310923424d73b700b85a46537a55': finished (progress 100%)\n"
     ]
    },
    {
     "name": "stderr",
     "output_type": "stream",
     "text": [
      "2025-01-31 09:26:47,041 [INFO] Downloading Job result asset 'openEO_2011-01-27Z.tif' from https://openeo.dataspace.copernicus.eu/openeo/1.2/jobs/j-2501310923424d73b700b85a46537a55/results/assets/ZTlhMGJlNzktY2QxYy00YzFmLWI0OTgtZjJiZTNjZTYwN2Mx/a5b7f681947de79cc766820d44e430e7/openEO_2011-01-27Z.tif?expires=1738920407 to data/meteo_data/2023/06/11/dem.tif\n",
      "2025-01-31 09:26:47,274 [INFO] Processing slope and aspect from DEM.\n",
      "/usr/lib/python3/dist-packages/osgeo/gdal.py:315: FutureWarning: Neither gdal.UseExceptions() nor gdal.DontUseExceptions() has been explicitly called. In GDAL 4.0, exceptions will be enabled by default.\n",
      "  warnings.warn(\n",
      "2025-01-31 09:26:47,359 [INFO] Process era5 for single date'.\n"
     ]
    },
    {
     "name": "stdout",
     "output_type": "stream",
     "text": [
      "Downloading \"100m_u_component_of_wind, 100m_v_component_of_wind, 10m_u_component_of_wind, 10m_v_component_of_wind, 2m_dewpoint_temperature, 2m_temperature, surface_pressure, surface_solar_radiation_downwards, surface_thermal_radiation_downwards, total_column_water_vapour, geopotential\" from the Copernicus Climate Store\n",
      "Querying products for extent [57.53, 7.16, 55.47642857142858, 9.240357142857139]\n",
      "..and dates 2023-06-10 00:00:00 to 2023-06-12 00:00:00\n"
     ]
    },
    {
     "name": "stderr",
     "output_type": "stream",
     "text": [
      "2025-01-31 09:26:52,826 WARNING [2024-06-16T00:00:00] CDS API syntax is changed and some keys or parameter names may have also changed. To avoid requests failing, please use the \"Show API request code\" tool on the dataset Download Form to check you are using the correct syntax for your API request.\n",
      "2025-01-31 09:26:52,826 [WARNING] [2024-06-16T00:00:00] CDS API syntax is changed and some keys or parameter names may have also changed. To avoid requests failing, please use the \"Show API request code\" tool on the dataset Download Form to check you are using the correct syntax for your API request.\n"
     ]
    },
    {
     "name": "stdout",
     "output_type": "stream",
     "text": [
      "Saving into data/meteo_data/2023/06/11/20230611_era5.grib\n"
     ]
    },
    {
     "name": "stderr",
     "output_type": "stream",
     "text": [
      "2025-01-31 09:27:07,350 [INFO] Downloading https://object-store.os-api.cci2.ecmwf.int:443/cci2-prod-cache/16d6038969622a0f8820a58bc099fa3e.grib\n"
     ]
    },
    {
     "name": "stdout",
     "output_type": "stream",
     "text": [
      "Saved to file data/meteo_data/2023/06/11/20230611_era5.grib\n",
      "Downloading \"total_aerosol_optical_depth_550nm\" from the Copernicus Atmospheric Store\n"
     ]
    },
    {
     "name": "stderr",
     "output_type": "stream",
     "text": [
      "2025-01-31 09:27:24,839 [INFO] Downloading https://object-store.os-api.cci2.ecmwf.int:443/cci2-prod-cache/6b5b2a6f3e0d55169d154c6f61330592.grib\n"
     ]
    },
    {
     "name": "stdout",
     "output_type": "stream",
     "text": [
      "Downloaded\n",
      "Saved to file data/meteo_data/2023/06/11/20230611_cams.grib\n",
      "Processing ECMWF data for UTC time 2023-06-11 11:00:00\n",
      "This may take some time...\n",
      "Saved MEM\n",
      "Saved MEM\n",
      "Saved MEM\n",
      "Saved MEM\n",
      "Saved MEM\n",
      "Saved MEM\n",
      "Saved MEM\n",
      "Saved MEM\n",
      "Saved MEM\n",
      "Saved MEM\n",
      "Saved MEM\n",
      "Saved MEM\n",
      "Saved MEM\n",
      "Saved MEM\n",
      "Saved MEM\n",
      "Saved MEM\n",
      "Saved MEM\n",
      "Saved MEM\n",
      "Saved MEM\n",
      "Saved MEM\n",
      "Saved MEM\n",
      "Saved MEM\n",
      "Saved MEM\n",
      "Saved MEM\n",
      "Saved MEM\n",
      "Saved MEM\n",
      "Saved MEM\n",
      "Saved MEM\n",
      "Saved MEM\n",
      "Saved MEM\n",
      "Saved MEM\n",
      "Saved MEM\n",
      "Saved MEM\n",
      "Saved MEM\n",
      "Saved MEM\n",
      "Saved MEM\n",
      "Saved MEM\n",
      "Saved MEM\n",
      "Saved MEM\n",
      "Saved MEM\n",
      "Saved MEM\n",
      "Saved MEM\n",
      "Saved MEM\n",
      "Saved MEM\n",
      "Saved MEM\n",
      "Saved MEM\n",
      "Saved MEM\n",
      "Saved MEM\n",
      "Saved MEM\n",
      "Saved MEM\n",
      "Saved MEM\n",
      "Saved MEM\n",
      "Saved MEM\n",
      "Saved MEM\n",
      "Saved MEM\n",
      "Saved MEM\n",
      "Saved MEM\n",
      "Saved MEM\n",
      "Saved MEM\n",
      "Saved MEM\n",
      "Saved MEM\n",
      "Saved MEM\n",
      "Saved MEM\n",
      "Saved MEM\n",
      "Saved MEM\n",
      "Saved MEM\n",
      "Saved MEM\n",
      "Saved MEM\n",
      "Saved MEM\n",
      "Saved MEM\n",
      "Saved MEM\n",
      "Saved MEM\n",
      "Saved MEM\n",
      "Saved MEM\n",
      "Saved MEM\n",
      "Saved MEM\n",
      "Saved MEM\n",
      "Saved MEM\n",
      "Saved MEM\n",
      "Saved MEM\n",
      "Saved MEM\n",
      "Saved MEM\n",
      "Saved MEM\n",
      "Saved MEM\n",
      "Saved MEM\n",
      "Saved MEM\n",
      "Saved MEM\n",
      "Saved MEM\n",
      "Saved MEM\n",
      "Saved MEM\n",
      "Saved MEM\n",
      "Saved MEM\n",
      "Saved MEM\n",
      "Saved MEM\n",
      "Saved MEM\n",
      "Saved MEM\n",
      "Saved MEM\n",
      "Saved MEM\n",
      "Saved MEM\n",
      "Saved MEM\n",
      "Saved MEM\n",
      "Saved MEM\n",
      "Saved MEM\n",
      "Saved MEM\n",
      "Saved MEM\n",
      "Saved MEM\n",
      "Saved MEM\n",
      "Saved MEM\n",
      "Saved MEM\n",
      "Saved MEM\n",
      "Saved MEM\n",
      "Saved MEM\n",
      "Saved MEM\n",
      "Saved MEM\n",
      "Saved MEM\n",
      "Saved MEM\n",
      "Saved MEM\n",
      "Saved MEM\n",
      "Saved MEM\n",
      "Saved MEM\n",
      "Saved MEM\n",
      "Saved MEM\n",
      "Saved MEM\n",
      "Saved MEM\n",
      "Saved MEM\n",
      "Saved MEM\n",
      "Saved MEM\n",
      "Saved MEM\n",
      "Saved MEM\n",
      "Saved MEM\n",
      "Saved MEM\n",
      "Saved MEM\n",
      "Saved MEM\n",
      "Saved MEM\n",
      "Saved MEM\n",
      "Saved MEM\n",
      "Saved MEM\n",
      "Saved MEM\n",
      "Saved MEM\n",
      "Saved MEM\n",
      "Saved MEM\n",
      "Saved MEM\n",
      "Saved MEM\n",
      "Saved MEM\n",
      "Saved MEM\n",
      "Saved MEM\n",
      "Saved MEM\n",
      "Saved MEM\n",
      "Saved MEM\n",
      "Saved MEM\n",
      "Saved MEM\n",
      "Saved MEM\n",
      "Saved MEM\n",
      "Saved MEM\n",
      "Saved MEM\n",
      "Saved MEM\n",
      "Saved MEM\n",
      "Saved MEM\n",
      "Saved MEM\n",
      "Saved MEM\n",
      "Saved MEM\n",
      "Saved MEM\n",
      "Saved MEM\n",
      "Saved MEM\n",
      "Saved MEM\n",
      "Saved MEM\n",
      "Saved MEM\n",
      "Saved MEM\n",
      "Saved MEM\n",
      "Saved MEM\n",
      "Saved MEM\n",
      "Saved MEM\n",
      "Saved MEM\n",
      "Saved MEM\n",
      "Saved MEM\n",
      "Saved MEM\n",
      "Saved MEM\n",
      "Saved MEM\n",
      "Saved MEM\n",
      "Saved MEM\n",
      "Saved MEM\n",
      "Saved MEM\n",
      "Saved MEM\n",
      "Saved MEM\n",
      "Saved MEM\n",
      "Saved MEM\n",
      "Saved MEM\n",
      "Saved MEM\n",
      "Saved MEM\n",
      "Saved MEM\n",
      "Saved MEM\n",
      "Saved MEM\n",
      "Saved MEM\n",
      "Saved MEM\n",
      "Saved MEM\n",
      "Saved MEM\n",
      "Saved MEM\n",
      "Saved MEM\n",
      "Saved MEM\n",
      "Saved MEM\n",
      "Saved MEM\n",
      "Saved MEM\n",
      "Saved MEM\n",
      "Saved MEM\n",
      "Saved MEM\n",
      "Saved MEM\n",
      "Saved MEM\n",
      "Saved MEM\n",
      "Saved MEM\n",
      "Saved MEM\n",
      "Saved MEM\n",
      "Saved MEM\n",
      "Saved MEM\n",
      "Saved MEM\n",
      "Saved MEM\n",
      "Saved MEM\n",
      "Saved MEM\n",
      "Saved MEM\n",
      "Saved MEM\n",
      "Saved MEM\n",
      "Saved MEM\n",
      "Saved MEM\n",
      "Saved MEM\n",
      "Saved MEM\n",
      "Saved MEM\n",
      "Saved MEM\n",
      "Saved MEM\n",
      "Saved MEM\n",
      "Saved MEM\n",
      "Saved MEM\n",
      "Saved MEM\n",
      "Saved MEM\n",
      "Saved MEM\n",
      "Saved MEM\n",
      "Saved MEM\n",
      "Saved MEM\n",
      "Saved MEM\n",
      "Saved MEM\n",
      "Saved MEM\n",
      "Saved MEM\n",
      "Saved MEM\n",
      "Saved MEM\n",
      "Saved MEM\n",
      "Saved MEM\n",
      "Saved MEM\n",
      "Saved MEM\n",
      "Saved MEM\n",
      "Saved MEM\n",
      "Saved MEM\n",
      "Saved MEM\n",
      "Saved MEM\n",
      "Saved MEM\n",
      "Saved MEM\n",
      "Saved MEM\n",
      "Saved MEM\n",
      "Saved MEM\n",
      "Saved MEM\n",
      "Saved MEM\n",
      "Saved MEM\n",
      "Saved MEM\n",
      "Saved MEM\n",
      "Saved MEM\n",
      "Saved MEM\n",
      "Saved MEM\n",
      "Saved MEM\n",
      "Saved MEM\n",
      "Saved MEM\n",
      "Saved MEM\n",
      "Saved MEM\n",
      "Saved MEM\n",
      "Saved MEM\n",
      "Saved MEM\n",
      "Saved MEM\n",
      "Saved MEM\n",
      "Saved MEM\n",
      "Saved MEM\n",
      "Saved MEM\n",
      "Saved MEM\n",
      "Saved MEM\n",
      "Saved MEM\n",
      "Saved MEM\n",
      "Saved MEM\n",
      "Saved MEM\n",
      "Saved MEM\n",
      "Saved MEM\n",
      "Saved MEM\n",
      "Saved MEM\n",
      "Saved MEM\n",
      "Saved MEM\n",
      "Saved MEM\n",
      "Saved MEM\n",
      "Saved MEM\n",
      "Saved MEM\n",
      "Saved MEM\n",
      "Saved MEM\n",
      "Saved MEM\n",
      "Saved MEM\n",
      "Saved MEM\n",
      "Saved MEM\n",
      "Saved MEM\n",
      "Saved MEM\n",
      "Saved MEM\n",
      "Saved MEM\n",
      "Saved MEM\n",
      "Saved MEM\n",
      "Saved MEM\n",
      "Saved MEM\n",
      "Saved MEM\n",
      "Saved MEM\n",
      "Saved MEM\n",
      "Saved MEM\n",
      "Saved MEM\n",
      "Saved MEM\n",
      "Saved MEM\n",
      "Saved MEM\n",
      "Saved MEM\n",
      "Saved MEM\n",
      "Saved MEM\n",
      "Saved MEM\n",
      "Saved MEM\n",
      "Saved MEM\n",
      "Saved MEM\n",
      "Saved MEM\n",
      "Saved MEM\n",
      "Saved MEM\n",
      "Saved MEM\n",
      "Saved MEM\n",
      "Saved MEM\n",
      "Saved MEM\n",
      "Saved MEM\n",
      "Saved MEM\n",
      "Saved MEM\n",
      "Saved MEM\n",
      "Saved MEM\n",
      "Saved MEM\n",
      "Saved MEM\n",
      "Saved MEM\n",
      "Saved MEM\n",
      "Saved MEM\n",
      "Saved MEM\n",
      "Saved MEM\n",
      "Saved MEM\n",
      "Saved MEM\n",
      "Saved MEM\n",
      "Saved MEM\n",
      "Saved MEM\n",
      "Saved MEM\n",
      "Saved MEM\n",
      "Saved MEM\n",
      "Saved MEM\n",
      "Saved MEM\n",
      "Saved MEM\n",
      "Saved MEM\n",
      "Saved MEM\n",
      "Saved MEM\n",
      "Saved MEM\n",
      "Saved MEM\n",
      "Saved MEM\n",
      "Saved MEM\n",
      "Saved MEM\n",
      "Saved MEM\n",
      "Saved MEM\n",
      "Saved MEM\n",
      "Saved MEM\n",
      "Saved MEM\n",
      "Saved MEM\n",
      "Saved MEM\n",
      "Saved MEM\n",
      "Saved MEM\n",
      "Saved MEM\n",
      "Saved MEM\n",
      "Saved MEM\n",
      "Saved MEM\n",
      "Saved MEM\n",
      "Saved MEM\n",
      "Saved MEM\n",
      "Saved MEM\n",
      "Saved MEM\n",
      "Saved MEM\n",
      "Saved MEM\n",
      "Saved MEM\n",
      "Saved MEM\n",
      "Saved MEM\n",
      "Saved MEM\n",
      "Saved MEM\n",
      "Saved MEM\n",
      "Saved MEM\n",
      "Saved MEM\n",
      "Saved MEM\n",
      "Saved MEM\n",
      "Saved MEM\n",
      "Saved MEM\n",
      "Saved MEM\n",
      "Saved MEM\n",
      "Saved MEM\n",
      "Saved MEM\n",
      "Saved MEM\n",
      "Saved MEM\n",
      "Saved MEM\n",
      "Saved MEM\n",
      "Saved MEM\n",
      "Saved MEM\n",
      "Saved MEM\n",
      "Saved MEM\n",
      "Saved MEM\n",
      "Saved MEM\n",
      "Saved MEM\n",
      "Saved MEM\n",
      "Saved MEM\n",
      "Saved MEM\n",
      "Saved MEM\n",
      "Saved MEM\n",
      "Saved MEM\n",
      "Saved MEM\n",
      "Saved MEM\n",
      "Saved MEM\n",
      "Saved MEM\n",
      "Saved MEM\n",
      "Saved MEM\n",
      "Saved MEM\n",
      "Saved MEM\n",
      "Saved MEM\n",
      "Saved MEM\n",
      "Saved MEM\n",
      "Saved MEM\n",
      "Saved MEM\n",
      "Saved MEM\n",
      "Saved MEM\n",
      "Saved MEM\n",
      "Saved MEM\n",
      "Saved MEM\n",
      "Saved MEM\n",
      "Saved MEM\n",
      "Saved MEM\n",
      "Saved MEM\n",
      "Saved MEM\n",
      "Saved MEM\n",
      "Saved MEM\n",
      "Saved MEM\n",
      "Saved MEM\n",
      "Saved MEM\n",
      "Saved MEM\n",
      "Saved MEM\n",
      "Saved MEM\n",
      "Saved MEM\n",
      "Saved MEM\n",
      "Saved MEM\n",
      "Saved MEM\n",
      "Saved MEM\n",
      "Saved MEM\n",
      "Saved MEM\n",
      "Saving TA to data/meteo_data/2023/06/11/20230611T11649_TA.tif\n"
     ]
    },
    {
     "name": "stderr",
     "output_type": "stream",
     "text": [
      "2025-01-31 09:27:26,916 [INFO] Renaming output files for clarity.\n",
      "2025-01-31 09:27:26,917 [INFO] Summing DI images.\n",
      "2025-01-31 09:27:26,937 [INFO] Final output saved to: ./data/meteo_data/2023/06/11/20230611T11649_S_dn.tif\n"
     ]
    },
    {
     "name": "stdout",
     "output_type": "stream",
     "text": [
      "Saving EA to data/meteo_data/2023/06/11/20230611T11649_EA.tif\n",
      "Saving WS to data/meteo_data/2023/06/11/20230611T11649_WS.tif\n",
      "Saving PA to data/meteo_data/2023/06/11/20230611T11649_PA.tif\n",
      "Saving AOT to data/meteo_data/2023/06/11/20230611T11649_AOT.tif\n",
      "Saving TCWV to data/meteo_data/2023/06/11/20230611T11649_TCWV.tif\n",
      "Saving PAR-DIR to data/meteo_data/2023/06/11/20230611T11649_PAR-DIR.tif\n",
      "Saving NIR-DIR to data/meteo_data/2023/06/11/20230611T11649_NIR-DIR.tif\n",
      "Saving PAR-DIF to data/meteo_data/2023/06/11/20230611T11649_PAR-DIF.tif\n",
      "Saving NIR-DIF to data/meteo_data/2023/06/11/20230611T11649_NIR-DIF.tif\n",
      "Saving LW-IN to data/meteo_data/2023/06/11/20230611T11649_LW-IN.tif\n",
      "Saving ETr to data/meteo_data/2023/06/11/20230611_ETR.tif\n",
      "Saving SW-IN-DD to data/meteo_data/2023/06/11/20230611_SW-IN-DD.tif\n"
     ]
    }
   ],
   "source": [
    "meteo_output_path = get_meteo_data(\n",
    "    connection,\n",
    "    date,\n",
    "    bounding_box,\n",
    "    cds_credentials_file=\".cdsapirc\",\n",
    "    ads_credentials_file=\".adsapirc\",\n",
    "    data_dir=data_path\n",
    ")"
   ]
  },
  {
   "cell_type": "markdown",
   "metadata": {},
   "source": [
    "### Resample Meteorological to same resolution as Sentinel2"
   ]
  },
  {
   "cell_type": "code",
   "execution_count": 6,
   "metadata": {},
   "outputs": [
    {
     "name": "stderr",
     "output_type": "stream",
     "text": [
      "2025-01-31 09:33:43,758 [INFO] Starting resample_meteo_to_s2 processing...\n",
      "2025-01-31 09:33:43,803 [INFO] Using Sentinel-2 extent: (448260.0, 6259760.0, 453260.0, 6265390.0)\n",
      "2025-01-31 09:33:43,803 [INFO] Processing 20230611_S_dn_24.tif -> data/meteo_data/2023/06/11/20230611_S_dn_24.tif\n",
      "2025-01-31 09:33:43,833 [INFO] Processing 20230611T11649_u.tif -> data/meteo_data/2023/06/11/20230611T11649_u.tif\n",
      "2025-01-31 09:33:43,847 [INFO] Processing 20230611T11649_S_dn.tif -> data/meteo_data/2023/06/11/20230611T11649_S_dn.tif\n",
      "2025-01-31 09:33:43,862 [INFO] Processing 20230611T11649_EA.tif -> data/meteo_data/2023/06/11/20230611T11649_EA.tif\n",
      "2025-01-31 09:33:43,876 [INFO] Processing 20230611T11649_p.tif -> data/meteo_data/2023/06/11/20230611T11649_p.tif\n",
      "2025-01-31 09:33:43,891 [INFO] Processing 20230611T11649_T_A1.tif -> data/meteo_data/2023/06/11/20230611T11649_T_A1.tif\n",
      "2025-01-31 09:33:43,907 [INFO] Processing completed successfully.\n"
     ]
    }
   ],
   "source": [
    "lai_path = os.path.join(s2_output_path, f\"{date.replace('-', '')}_LAI.tif\")\n",
    "resample_meteo_to_s2(meteo_output_path, meteo_output_path, lai_path)"
   ]
  },
  {
   "cell_type": "code",
   "execution_count": null,
   "metadata": {},
   "outputs": [],
   "source": []
  }
 ],
 "metadata": {
  "kernelspec": {
   "display_name": "Python 3",
   "language": "python",
   "name": "python3"
  },
  "language_info": {
   "codemirror_mode": {
    "name": "ipython",
    "version": 3
   },
   "file_extension": ".py",
   "mimetype": "text/x-python",
   "name": "python",
   "nbconvert_exporter": "python",
   "pygments_lexer": "ipython3",
   "version": "3.10.12"
  }
 },
 "nbformat": 4,
 "nbformat_minor": 2
}
