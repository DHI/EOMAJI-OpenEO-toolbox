{
 "cells": [
  {
   "cell_type": "markdown",
   "metadata": {},
   "source": [
    "This notebook can be run on the Copernicus Dataspace Jupyterhub but running the following package installation cell first"
   ]
  },
  {
   "cell_type": "code",
   "execution_count": null,
   "metadata": {},
   "outputs": [],
   "source": [
    "#!pip install eomaji@git+https://github.com/DHI/EOMAJI-OpenEO-toolbox.git"
   ]
  },
  {
   "cell_type": "markdown",
   "metadata": {},
   "source": [
    "# Meteorological & Biophysical Parameter Workflow"
   ]
  },
  {
   "cell_type": "code",
   "execution_count": null,
   "metadata": {},
   "outputs": [
    {
     "name": "stderr",
     "output_type": "stream",
     "text": [
      "2025-01-29 15:00:17,806 [INFO] Loaded openEO client config from sources: []\n",
      "2025-01-29 15:00:18,307 [INFO] Found OIDC providers: ['CDSE']\n",
      "2025-01-29 15:00:18,308 [INFO] No OIDC provider given, but only one available: 'CDSE'. Using that one.\n",
      "2025-01-29 15:00:18,557 [INFO] Using default client_id 'sh-b1c3a958-52d4-40fe-a333-153595d1c71e' from OIDC provider 'CDSE' info.\n",
      "2025-01-29 15:00:18,559 [INFO] Found refresh token: trying refresh token based authentication.\n",
      "2025-01-29 15:00:18,560 [INFO] Doing 'refresh_token' token request 'https://identity.dataspace.copernicus.eu/auth/realms/CDSE/protocol/openid-connect/token' with post data fields ['grant_type', 'client_id', 'refresh_token'] (client_id 'sh-b1c3a958-52d4-40fe-a333-153595d1c71e')\n",
      "2025-01-29 15:00:18,777 [INFO] Obtained tokens: ['access_token', 'id_token', 'refresh_token']\n",
      "2025-01-29 15:00:18,778 [INFO] Storing refresh token for issuer 'https://identity.dataspace.copernicus.eu/auth/realms/CDSE' (client 'sh-b1c3a958-52d4-40fe-a333-153595d1c71e')\n"
     ]
    },
    {
     "name": "stdout",
     "output_type": "stream",
     "text": [
      "Authenticated using refresh token.\n"
     ]
    }
   ],
   "source": [
    "import openeo\n",
    "import os\n",
    "from eomaji.workflows.meteo_preprocessing import get_meteo, resample_meteo_to_s2\n",
    "from eomaji.workflows.sentinel2_preprocessing import get_s2_data, process_lai_and_cwc"
   ]
  },
  {
   "cell_type": "markdown",
   "metadata": {},
   "source": [
    "### Set up the OpenEO connection"
   ]
  },
  {
   "cell_type": "code",
   "execution_count": null,
   "metadata": {},
   "outputs": [
    {
     "name": "stdout",
     "output_type": "stream",
     "text": [
      "Authenticated using refresh token.\n"
     ]
    },
    {
     "data": {
      "text/plain": [
       "<Connection to 'https://openeo.dataspace.copernicus.eu/openeo/1.2/' with OidcBearerAuth>"
      ]
     },
     "metadata": {},
     "output_type": "display_data"
    }
   ],
   "source": [
    "connection = openeo.connect(\"https://openeo.dataspace.copernicus.eu\")\n",
    "connection.authenticate_oidc()"
   ]
  },
  {
   "cell_type": "markdown",
   "metadata": {},
   "source": [
    "### Define the date and the area of interest"
   ]
  },
  {
   "cell_type": "code",
   "execution_count": 2,
   "metadata": {},
   "outputs": [],
   "source": [
    "bounding_box = [8.16, 56.48, 8.24,  56.53] \n",
    "date = \"2023-06-11\"\n",
    "data_path = \"./data\""
   ]
  },
  {
   "cell_type": "code",
   "execution_count": 3,
   "metadata": {},
   "outputs": [
    {
     "name": "stderr",
     "output_type": "stream",
     "text": [
      "/usr/local/lib/python3.10/dist-packages/openeo/rest/connection.py:1319: UserWarning: SENTINEL3_SLSTR_L2_LST property filtering with properties that are undefined in the collection metadata (summaries): orbitDirection, timeliness.\n",
      "  return DataCube.load_collection(\n"
     ]
    },
    {
     "name": "stdout",
     "output_type": "stream",
     "text": [
      "0:00:00 Job 'j-2501291500384fa68de59b180f2f8b60': send 'start'\n",
      "0:00:19 Job 'j-2501291500384fa68de59b180f2f8b60': created (progress 0%)\n",
      "0:00:25 Job 'j-2501291500384fa68de59b180f2f8b60': created (progress 0%)\n",
      "0:00:31 Job 'j-2501291500384fa68de59b180f2f8b60': running (progress N/A)\n",
      "0:00:39 Job 'j-2501291500384fa68de59b180f2f8b60': running (progress N/A)\n",
      "0:00:49 Job 'j-2501291500384fa68de59b180f2f8b60': running (progress N/A)\n",
      "0:01:01 Job 'j-2501291500384fa68de59b180f2f8b60': running (progress N/A)\n",
      "0:01:17 Job 'j-2501291500384fa68de59b180f2f8b60': running (progress N/A)\n",
      "0:01:36 Job 'j-2501291500384fa68de59b180f2f8b60': running (progress N/A)\n",
      "0:02:00 Job 'j-2501291500384fa68de59b180f2f8b60': running (progress N/A)\n",
      "0:02:30 Job 'j-2501291500384fa68de59b180f2f8b60': running (progress N/A)\n",
      "0:03:08 Job 'j-2501291500384fa68de59b180f2f8b60': running (progress N/A)\n",
      "0:03:54 Job 'j-2501291500384fa68de59b180f2f8b60': finished (progress 100%)\n"
     ]
    },
    {
     "name": "stderr",
     "output_type": "stream",
     "text": [
      "2025-01-29 15:04:34,258 [INFO] Downloading Job result asset 'openEO.nc' from https://openeo.dataspace.copernicus.eu/openeo/1.2/jobs/j-2501291500384fa68de59b180f2f8b60/results/assets/ZTlhMGJlNzktY2QxYy00YzFmLWI0OTgtZjJiZTNjZTYwN2Mx/299c5f62c5825bc9d75bdbf48e5ca423/openEO.nc?expires=1738767874 to s2/2023/06/11/s2_data.nc\n"
     ]
    },
    {
     "name": "stdout",
     "output_type": "stream",
     "text": [
      "Saved FAPAR to s2/2023/06/11/20230611_FAPAR.tif\n",
      "Saved LAI to s2/2023/06/11/20230611_LAI.tif\n",
      "Saved FCOVER to s2/2023/06/11/20230611_FCOVER.tif\n",
      "Saved CCC to s2/2023/06/11/20230611_CCC.tif\n",
      "Saved CWC to s2/2023/06/11/20230611_CWC.tif\n",
      "Saved SCL to s2/2023/06/11/20230611_SCL.tif\n",
      "Saved sunZenithAngles to s2/2023/06/11/20230611_SZA.tif\n",
      "0:00:00 Job 'j-2501291504544d068799cbba9d4a8bb6': send 'start'\n",
      "0:00:29 Job 'j-2501291504544d068799cbba9d4a8bb6': created (progress 0%)\n",
      "0:00:34 Job 'j-2501291504544d068799cbba9d4a8bb6': created (progress 0%)\n",
      "0:00:40 Job 'j-2501291504544d068799cbba9d4a8bb6': created (progress 0%)\n",
      "0:00:48 Job 'j-2501291504544d068799cbba9d4a8bb6': created (progress 0%)\n",
      "0:00:59 Job 'j-2501291504544d068799cbba9d4a8bb6': created (progress 0%)\n",
      "0:01:11 Job 'j-2501291504544d068799cbba9d4a8bb6': created (progress 0%)\n",
      "0:01:26 Job 'j-2501291504544d068799cbba9d4a8bb6': running (progress N/A)\n",
      "0:01:46 Job 'j-2501291504544d068799cbba9d4a8bb6': running (progress N/A)\n",
      "0:02:10 Job 'j-2501291504544d068799cbba9d4a8bb6': running (progress N/A)\n",
      "0:02:40 Job 'j-2501291504544d068799cbba9d4a8bb6': finished (progress 100%)\n"
     ]
    },
    {
     "name": "stderr",
     "output_type": "stream",
     "text": [
      "2025-01-29 15:07:35,083 [INFO] Downloading Job result asset 'openEO_2011-01-27Z.tif' from https://openeo.dataspace.copernicus.eu/openeo/1.2/jobs/j-2501291504544d068799cbba9d4a8bb6/results/assets/ZTlhMGJlNzktY2QxYy00YzFmLWI0OTgtZjJiZTNjZTYwN2Mx/866832f43f3c575744516e2f3239d81e/openEO_2011-01-27Z.tif?expires=1738768055 to s2/2023/06/11/20230611_ELEV.tif\n"
     ]
    },
    {
     "name": "stdout",
     "output_type": "stream",
     "text": [
      "0:00:00 Job 'j-25012915074149d38c3a5e6dd0ed929b': send 'start'\n",
      "0:00:19 Job 'j-25012915074149d38c3a5e6dd0ed929b': created (progress 0%)\n",
      "0:00:24 Job 'j-25012915074149d38c3a5e6dd0ed929b': queued (progress 0%)\n",
      "0:00:31 Job 'j-25012915074149d38c3a5e6dd0ed929b': queued (progress 0%)\n",
      "0:00:39 Job 'j-25012915074149d38c3a5e6dd0ed929b': queued (progress 0%)\n",
      "0:00:49 Job 'j-25012915074149d38c3a5e6dd0ed929b': queued (progress 0%)\n",
      "0:01:01 Job 'j-25012915074149d38c3a5e6dd0ed929b': queued (progress 0%)\n",
      "0:01:17 Job 'j-25012915074149d38c3a5e6dd0ed929b': queued (progress 0%)\n",
      "0:01:36 Job 'j-25012915074149d38c3a5e6dd0ed929b': running (progress N/A)\n",
      "0:02:00 Job 'j-25012915074149d38c3a5e6dd0ed929b': running (progress N/A)\n",
      "0:02:30 Job 'j-25012915074149d38c3a5e6dd0ed929b': finished (progress 100%)\n"
     ]
    },
    {
     "name": "stderr",
     "output_type": "stream",
     "text": [
      "2025-01-29 15:10:12,536 [INFO] Downloading Job result asset 'openEO_2021-01-01Z.tif' from https://openeo.dataspace.copernicus.eu/openeo/1.2/jobs/j-25012915074149d38c3a5e6dd0ed929b/results/assets/ZTlhMGJlNzktY2QxYy00YzFmLWI0OTgtZjJiZTNjZTYwN2Mx/df0c31b4bbf8ca13c0c21758471bf891/openEO_2021-01-01Z.tif?expires=1738768212 to s2/2023/06/11/WordlCover2021.tif\n"
     ]
    },
    {
     "name": "stdout",
     "output_type": "stream",
     "text": [
      "0:00:00 Job 'j-2501291510184dce8e8dc8b04bf7c675': send 'start'\n",
      "0:00:21 Job 'j-2501291510184dce8e8dc8b04bf7c675': created (progress 0%)\n",
      "0:00:26 Job 'j-2501291510184dce8e8dc8b04bf7c675': created (progress 0%)\n",
      "0:00:32 Job 'j-2501291510184dce8e8dc8b04bf7c675': created (progress 0%)\n",
      "0:00:40 Job 'j-2501291510184dce8e8dc8b04bf7c675': created (progress 0%)\n",
      "0:00:50 Job 'j-2501291510184dce8e8dc8b04bf7c675': running (progress N/A)\n",
      "0:01:03 Job 'j-2501291510184dce8e8dc8b04bf7c675': running (progress N/A)\n",
      "0:01:18 Job 'j-2501291510184dce8e8dc8b04bf7c675': running (progress N/A)\n",
      "0:01:38 Job 'j-2501291510184dce8e8dc8b04bf7c675': running (progress N/A)\n",
      "0:02:02 Job 'j-2501291510184dce8e8dc8b04bf7c675': running (progress N/A)\n",
      "0:02:32 Job 'j-2501291510184dce8e8dc8b04bf7c675': running (progress N/A)\n",
      "0:03:09 Job 'j-2501291510184dce8e8dc8b04bf7c675': running (progress N/A)\n",
      "0:03:56 Job 'j-2501291510184dce8e8dc8b04bf7c675': running (progress N/A)\n",
      "0:04:54 Job 'j-2501291510184dce8e8dc8b04bf7c675': running (progress N/A)\n",
      "0:05:55 Job 'j-2501291510184dce8e8dc8b04bf7c675': finished (progress 100%)\n"
     ]
    },
    {
     "name": "stderr",
     "output_type": "stream",
     "text": [
      "2025-01-29 15:16:15,636 [INFO] Downloading Job result asset 'openEO.nc' from https://openeo.dataspace.copernicus.eu/openeo/1.2/jobs/j-2501291510184dce8e8dc8b04bf7c675/results/assets/ZTlhMGJlNzktY2QxYy00YzFmLWI0OTgtZjJiZTNjZTYwN2Mx/9caea736eefbaa97974d3099a6f78c8d/openEO.nc?expires=1738768575 to s2/2023/06/11/lst_data.nc\n"
     ]
    },
    {
     "name": "stdout",
     "output_type": "stream",
     "text": [
      "0:00:00 Job 'j-2501291516254ece90584316292a7737': send 'start'\n",
      "0:00:20 Job 'j-2501291516254ece90584316292a7737': created (progress 0%)\n",
      "0:00:25 Job 'j-2501291516254ece90584316292a7737': created (progress 0%)\n",
      "0:00:31 Job 'j-2501291516254ece90584316292a7737': created (progress 0%)\n",
      "0:00:39 Job 'j-2501291516254ece90584316292a7737': created (progress 0%)\n",
      "0:00:49 Job 'j-2501291516254ece90584316292a7737': queued (progress 0%)\n",
      "0:01:02 Job 'j-2501291516254ece90584316292a7737': queued (progress 0%)\n",
      "0:01:17 Job 'j-2501291516254ece90584316292a7737': queued (progress 0%)\n",
      "0:01:38 Job 'j-2501291516254ece90584316292a7737': queued (progress 0%)\n",
      "0:02:02 Job 'j-2501291516254ece90584316292a7737': running (progress N/A)\n",
      "0:02:32 Job 'j-2501291516254ece90584316292a7737': running (progress N/A)\n",
      "0:03:09 Job 'j-2501291516254ece90584316292a7737': running (progress N/A)\n",
      "0:03:56 Job 'j-2501291516254ece90584316292a7737': running (progress N/A)\n",
      "0:04:55 Job 'j-2501291516254ece90584316292a7737': running (progress N/A)\n",
      "0:05:55 Job 'j-2501291516254ece90584316292a7737': finished (progress 100%)\n"
     ]
    },
    {
     "name": "stderr",
     "output_type": "stream",
     "text": [
      "2025-01-29 15:22:21,594 [INFO] Downloading Job result asset 'openEO.nc' from https://openeo.dataspace.copernicus.eu/openeo/1.2/jobs/j-2501291516254ece90584316292a7737/results/assets/ZTlhMGJlNzktY2QxYy00YzFmLWI0OTgtZjJiZTNjZTYwN2Mx/084706cf48dad410f04971c75d724808/openEO.nc?expires=1738768941 to s2/2023/06/11/vza_data.nc\n"
     ]
    },
    {
     "name": "stdout",
     "output_type": "stream",
     "text": [
      "Saved LST to s2/2023/06/11/20230611T093800_LST.tif\n",
      "Saved viewZenithAngles to s2/2023/06/11/20230611T093800_viewZenithAngles.tif\n",
      "Saved frac_green to ./s2/2023/06/11/20230611_F_G.tif\n",
      "Saved H_C to ./s2/2023/06/11/20230611_H_C.tif\n",
      "Saved veg_height_width_ratio to ./s2/2023/06/11/20230611_W_C.tif\n",
      "Saved veg_leaf_width to ./s2/2023/06/11/20230611_LEAF_WIDTH.tif\n"
     ]
    }
   ],
   "source": [
    "cubes, s2_output_path = get_s2_data(connection=connection, bbox=bounding_box,date=date)"
   ]
  },
  {
   "cell_type": "code",
   "execution_count": 6,
   "metadata": {},
   "outputs": [
    {
     "name": "stderr",
     "output_type": "stream",
     "text": [
      "2025-01-29 15:25:52,461 [INFO] Saved raster: s2/2023/06/11/20230611_RHO_VIS_C.tif\n",
      "2025-01-29 15:25:52,466 [INFO] Saved raster: s2/2023/06/11/20230611_TAU_VIS_C.tif\n",
      "2025-01-29 15:25:52,467 [INFO] Processed LAI to VIS: s2/2023/06/11/20230611_RHO_VIS_C.tif, s2/2023/06/11/20230611_TAU_VIS_C.tif\n"
     ]
    },
    {
     "name": "stderr",
     "output_type": "stream",
     "text": [
      "2025-01-29 15:25:52,484 [INFO] Saved raster: s2/2023/06/11/20230611_RHO_NIR_C.tif\n",
      "2025-01-29 15:25:52,490 [INFO] Saved raster: s2/2023/06/11/20230611_TAU_NIR_C.tif\n",
      "2025-01-29 15:25:52,492 [INFO] Processed CWC to NIR: s2/2023/06/11/20230611_RHO_NIR_C.tif, s2/2023/06/11/20230611_TAU_NIR_C.tif\n"
     ]
    }
   ],
   "source": [
    "out_dir_s2 = \"s2/2023/06/11\"\n",
    "lai_path = os.path.join(out_dir_s2, f\"{date.replace('-','')}_LAI.tif\")\n",
    "cw_path = os.path.join(out_dir_s2,f\"{date.replace('-','')}_CWC.tif\")\n",
    "process_lai_and_cwc(lai_path, cw_path)"
   ]
  },
  {
   "cell_type": "markdown",
   "metadata": {},
   "source": [
    "### Get Meteorological Data\n",
    "Fetch data from Sentinel3, Atmosphere Data Store and Climate Data Store and calculate meteorological featurel\n",
    "\n",
    "The notebook depends on [Climate Data Store](https://cds.climate.copernicus.eu/) and the [Atmosphere Data Store](https://cds.climate.copernicus.eu/). To access data from these two sources you need an API key as described in the documentation:\n",
    "* [CDS User Guide](https://cds.climate.copernicus.eu/how-to-api) \n",
    "\n",
    "To run the next functions, you need to create a ```.adsapirc``` and a ```.cdsapirc``` file with the API key like this:\n",
    "\n",
    "``` bash\n",
    ".adsapirc\n",
    "url: https://ads.atmosphere.copernicus.eu/api\n",
    "key: <api_key>\n",
    "```\n",
    "and\n",
    "```` bash\n",
    ".cdsapirc\n",
    "url: https://cds.climate.copernicus.eu/api\n",
    "key: <api_key>\n",
    "````"
   ]
  },
  {
   "cell_type": "code",
   "execution_count": 8,
   "metadata": {},
   "outputs": [
    {
     "name": "stderr",
     "output_type": "stream",
     "text": [
      "/usr/local/lib/python3.10/dist-packages/openeo/rest/connection.py:1319: UserWarning: SENTINEL3_SLSTR_L2_LST property filtering with properties that are undefined in the collection metadata (summaries): orbitDirection, timeliness.\n",
      "  return DataCube.load_collection(\n",
      "2025-01-29 15:26:24,937 [INFO] Downloading and Resampling DEM for area\n"
     ]
    },
    {
     "name": "stdout",
     "output_type": "stream",
     "text": [
      "0:00:00 Job 'j-25012915262548da9dd5618dadbe52dd': send 'start'\n",
      "0:00:16 Job 'j-25012915262548da9dd5618dadbe52dd': created (progress 0%)\n",
      "0:00:21 Job 'j-25012915262548da9dd5618dadbe52dd': created (progress 0%)\n",
      "0:00:27 Job 'j-25012915262548da9dd5618dadbe52dd': created (progress 0%)\n",
      "0:00:35 Job 'j-25012915262548da9dd5618dadbe52dd': created (progress 0%)\n",
      "0:00:45 Job 'j-25012915262548da9dd5618dadbe52dd': queued (progress 0%)\n",
      "0:00:58 Job 'j-25012915262548da9dd5618dadbe52dd': queued (progress 0%)\n",
      "0:01:13 Job 'j-25012915262548da9dd5618dadbe52dd': queued (progress 0%)\n",
      "0:01:32 Job 'j-25012915262548da9dd5618dadbe52dd': queued (progress 0%)\n",
      "0:01:56 Job 'j-25012915262548da9dd5618dadbe52dd': running (progress N/A)\n",
      "0:02:26 Job 'j-25012915262548da9dd5618dadbe52dd': running (progress N/A)\n",
      "0:03:04 Job 'j-25012915262548da9dd5618dadbe52dd': finished (progress 100%)\n"
     ]
    },
    {
     "name": "stderr",
     "output_type": "stream",
     "text": [
      "2025-01-29 15:29:29,960 [INFO] Downloading Job result asset 'openEO_2011-01-27Z.tif' from https://openeo.dataspace.copernicus.eu/openeo/1.2/jobs/j-25012915262548da9dd5618dadbe52dd/results/assets/ZTlhMGJlNzktY2QxYy00YzFmLWI0OTgtZjJiZTNjZTYwN2Mx/04d740bff12c305d6cf7253665afc4d5/openEO_2011-01-27Z.tif?expires=1738769369 to ecmwf/2023/06/11/dem.tif\n",
      "2025-01-29 15:29:32,227 [INFO] Processing slope and aspect from DEM.\n",
      "/usr/lib/python3/dist-packages/osgeo/gdal.py:315: FutureWarning: Neither gdal.UseExceptions() nor gdal.DontUseExceptions() has been explicitly called. In GDAL 4.0, exceptions will be enabled by default.\n",
      "  warnings.warn(\n",
      "2025-01-29 15:29:32,298 [INFO] Process era5 for single date'.\n"
     ]
    },
    {
     "name": "stdout",
     "output_type": "stream",
     "text": [
      "Downloading \"100m_u_component_of_wind, 100m_v_component_of_wind, 10m_u_component_of_wind, 10m_v_component_of_wind, 2m_dewpoint_temperature, 2m_temperature, surface_pressure, surface_solar_radiation_downwards, surface_thermal_radiation_downwards, total_column_water_vapour, geopotential\" from the Copernicus Climate Store\n",
      "Querying products for extent [57.53, 7.16, 55.47642857142858, 9.240357142857139]\n",
      "..and dates 2023-06-10 00:00:00 to 2023-06-12 00:00:00\n"
     ]
    },
    {
     "name": "stderr",
     "output_type": "stream",
     "text": [
      "2025-01-29 15:29:32,723 WARNING [2024-06-16T00:00:00] CDS API syntax is changed and some keys or parameter names may have also changed. To avoid requests failing, please use the \"Show API request code\" tool on the dataset Download Form to check you are using the correct syntax for your API request.\n",
      "2025-01-29 15:29:32,723 [WARNING] [2024-06-16T00:00:00] CDS API syntax is changed and some keys or parameter names may have also changed. To avoid requests failing, please use the \"Show API request code\" tool on the dataset Download Form to check you are using the correct syntax for your API request.\n"
     ]
    },
    {
     "name": "stdout",
     "output_type": "stream",
     "text": [
      "Saving into ecmwf/2023/06/11/20230611_era5.grib\n"
     ]
    },
    {
     "name": "stderr",
     "output_type": "stream",
     "text": [
      "2025-01-29 15:29:42,017 [INFO] Downloading https://object-store.os-api.cci2.ecmwf.int:443/cci2-prod-cache/16d6038969622a0f8820a58bc099fa3e.grib\n"
     ]
    },
    {
     "name": "stdout",
     "output_type": "stream",
     "text": [
      "Saved to file ecmwf/2023/06/11/20230611_era5.grib\n",
      "Downloading \"total_aerosol_optical_depth_550nm\" from the Copernicus Atmospheric Store\n"
     ]
    },
    {
     "name": "stderr",
     "output_type": "stream",
     "text": [
      "2025-01-29 15:29:52,459 [INFO] Downloading https://object-store.os-api.cci2.ecmwf.int:443/cci2-prod-cache/6b5b2a6f3e0d55169d154c6f61330592.grib\n"
     ]
    },
    {
     "name": "stdout",
     "output_type": "stream",
     "text": [
      "Downloaded\n",
      "Saved to file ecmwf/2023/06/11/20230611_cams.grib\n",
      "Processing ECMWF data for UTC time 2023-06-11 11:00:00\n",
      "This may take some time...\n",
      "Saved MEM\n",
      "Saved MEM\n",
      "Saved MEM\n",
      "Saved MEM\n",
      "Saved MEM\n",
      "Saved MEM\n",
      "Saved MEM\n",
      "Saved MEM\n",
      "Saved MEM\n",
      "Saved MEM\n",
      "Saved MEM\n",
      "Saved MEM\n",
      "Saved MEM\n",
      "Saved MEM\n",
      "Saved MEM\n",
      "Saved MEM\n",
      "Saved MEM\n",
      "Saved MEM\n",
      "Saved MEM\n",
      "Saved MEM\n",
      "Saved MEM\n",
      "Saved MEM\n",
      "Saved MEM\n",
      "Saved MEM\n",
      "Saved MEM\n",
      "Saved MEM\n",
      "Saved MEM\n",
      "Saved MEM\n",
      "Saved MEM\n",
      "Saved MEM\n",
      "Saved MEM\n",
      "Saved MEM\n",
      "Saved MEM\n",
      "Saved MEM\n",
      "Saved MEM\n",
      "Saved MEM\n",
      "Saved MEM\n",
      "Saved MEM\n",
      "Saved MEM\n",
      "Saved MEM\n",
      "Saved MEM\n",
      "Saved MEM\n",
      "Saved MEM\n",
      "Saved MEM\n",
      "Saved MEM\n",
      "Saved MEM\n",
      "Saved MEM\n",
      "Saved MEM\n",
      "Saved MEM\n",
      "Saved MEM\n",
      "Saved MEM\n",
      "Saved MEM\n",
      "Saved MEM\n",
      "Saved MEM\n",
      "Saved MEM\n",
      "Saved MEM\n",
      "Saved MEM\n",
      "Saved MEM\n",
      "Saved MEM\n",
      "Saved MEM\n",
      "Saved MEM\n",
      "Saved MEM\n",
      "Saved MEM\n",
      "Saved MEM\n",
      "Saved MEM\n",
      "Saved MEM\n",
      "Saved MEM\n",
      "Saved MEM\n",
      "Saved MEM\n",
      "Saved MEM\n",
      "Saved MEM\n",
      "Saved MEM\n",
      "Saved MEM\n",
      "Saved MEM\n",
      "Saved MEM\n",
      "Saved MEM\n",
      "Saved MEM\n",
      "Saved MEM\n",
      "Saved MEM\n",
      "Saved MEM\n",
      "Saved MEM\n",
      "Saved MEM\n",
      "Saved MEM\n",
      "Saved MEM\n",
      "Saved MEM\n",
      "Saved MEM\n",
      "Saved MEM\n",
      "Saved MEM\n",
      "Saved MEM\n",
      "Saved MEM\n",
      "Saved MEM\n",
      "Saved MEM\n",
      "Saved MEM\n",
      "Saved MEM\n",
      "Saved MEM\n",
      "Saved MEM\n",
      "Saved MEM\n",
      "Saved MEM\n",
      "Saved MEM\n",
      "Saved MEM\n",
      "Saved MEM\n",
      "Saved MEM\n",
      "Saved MEM\n",
      "Saved MEM\n",
      "Saved MEM\n",
      "Saved MEM\n",
      "Saved MEM\n",
      "Saved MEM\n",
      "Saved MEM\n",
      "Saved MEM\n",
      "Saved MEM\n",
      "Saved MEM\n",
      "Saved MEM\n",
      "Saved MEM\n",
      "Saved MEM\n",
      "Saved MEM\n",
      "Saved MEM\n",
      "Saved MEM\n",
      "Saved MEM\n",
      "Saved MEM\n",
      "Saved MEM\n",
      "Saved MEM\n",
      "Saved MEM\n",
      "Saved MEM\n",
      "Saved MEM\n",
      "Saved MEM\n",
      "Saved MEM\n",
      "Saved MEM\n",
      "Saved MEM\n",
      "Saved MEM\n",
      "Saved MEM\n",
      "Saved MEM\n",
      "Saved MEM\n",
      "Saved MEM\n",
      "Saved MEM\n",
      "Saved MEM\n",
      "Saved MEM\n",
      "Saved MEM\n",
      "Saved MEM\n",
      "Saved MEM\n",
      "Saved MEM\n",
      "Saved MEM\n",
      "Saved MEM\n",
      "Saved MEM\n",
      "Saved MEM\n",
      "Saved MEM\n",
      "Saved MEM\n",
      "Saved MEM\n",
      "Saved MEM\n",
      "Saved MEM\n",
      "Saved MEM\n",
      "Saved MEM\n",
      "Saved MEM\n",
      "Saved MEM\n",
      "Saved MEM\n",
      "Saved MEM\n",
      "Saved MEM\n",
      "Saved MEM\n",
      "Saved MEM\n",
      "Saved MEM\n",
      "Saved MEM\n",
      "Saved MEM\n",
      "Saved MEM\n",
      "Saved MEM\n",
      "Saved MEM\n",
      "Saved MEM\n",
      "Saved MEM\n",
      "Saved MEM\n",
      "Saved MEM\n",
      "Saved MEM\n",
      "Saved MEM\n",
      "Saved MEM\n",
      "Saved MEM\n",
      "Saved MEM\n",
      "Saved MEM\n",
      "Saved MEM\n",
      "Saved MEM\n",
      "Saved MEM\n",
      "Saved MEM\n",
      "Saved MEM\n",
      "Saved MEM\n",
      "Saved MEM\n",
      "Saved MEM\n",
      "Saved MEM\n",
      "Saved MEM\n",
      "Saved MEM\n",
      "Saved MEM\n",
      "Saved MEM\n",
      "Saved MEM\n",
      "Saved MEM\n",
      "Saved MEM\n",
      "Saved MEM\n",
      "Saved MEM\n",
      "Saved MEM\n",
      "Saved MEM\n",
      "Saved MEM\n",
      "Saved MEM\n",
      "Saved MEM\n",
      "Saved MEM\n",
      "Saved MEM\n",
      "Saved MEM\n",
      "Saved MEM\n",
      "Saved MEM\n",
      "Saved MEM\n",
      "Saved MEM\n",
      "Saved MEM\n",
      "Saved MEM\n",
      "Saved MEM\n",
      "Saved MEM\n",
      "Saved MEM\n",
      "Saved MEM\n",
      "Saved MEM\n",
      "Saved MEM\n",
      "Saved MEM\n",
      "Saved MEM\n",
      "Saved MEM\n",
      "Saved MEM\n",
      "Saved MEM\n",
      "Saved MEM\n",
      "Saved MEM\n",
      "Saved MEM\n",
      "Saved MEM\n",
      "Saved MEM\n",
      "Saved MEM\n",
      "Saved MEM\n",
      "Saved MEM\n",
      "Saved MEM\n",
      "Saved MEM\n",
      "Saved MEM\n",
      "Saved MEM\n",
      "Saved MEM\n",
      "Saved MEM\n",
      "Saved MEM\n",
      "Saved MEM\n",
      "Saved MEM\n",
      "Saved MEM\n",
      "Saved MEM\n",
      "Saved MEM\n",
      "Saved MEM\n",
      "Saved MEM\n",
      "Saved MEM\n",
      "Saved MEM\n",
      "Saved MEM\n",
      "Saved MEM\n",
      "Saved MEM\n",
      "Saved MEM\n",
      "Saved MEM\n",
      "Saved MEM\n",
      "Saved MEM\n",
      "Saved MEM\n",
      "Saved MEM\n",
      "Saved MEM\n",
      "Saved MEM\n",
      "Saved MEM\n",
      "Saved MEM\n",
      "Saved MEM\n",
      "Saved MEM\n",
      "Saved MEM\n",
      "Saved MEM\n",
      "Saved MEM\n",
      "Saved MEM\n",
      "Saved MEM\n",
      "Saved MEM\n",
      "Saved MEM\n",
      "Saved MEM\n",
      "Saved MEM\n",
      "Saved MEM\n",
      "Saved MEM\n",
      "Saved MEM\n",
      "Saved MEM\n",
      "Saved MEM\n",
      "Saved MEM\n",
      "Saved MEM\n",
      "Saved MEM\n",
      "Saved MEM\n",
      "Saved MEM\n",
      "Saved MEM\n",
      "Saved MEM\n",
      "Saved MEM\n",
      "Saved MEM\n",
      "Saved MEM\n",
      "Saved MEM\n",
      "Saved MEM\n",
      "Saved MEM\n",
      "Saved MEM\n",
      "Saved MEM\n",
      "Saved MEM\n",
      "Saved MEM\n",
      "Saved MEM\n",
      "Saved MEM\n",
      "Saved MEM\n",
      "Saved MEM\n",
      "Saved MEM\n",
      "Saved MEM\n",
      "Saved MEM\n",
      "Saved MEM\n",
      "Saved MEM\n",
      "Saved MEM\n",
      "Saved MEM\n",
      "Saved MEM\n",
      "Saved MEM\n",
      "Saved MEM\n",
      "Saved MEM\n",
      "Saved MEM\n",
      "Saved MEM\n",
      "Saved MEM\n",
      "Saved MEM\n",
      "Saved MEM\n",
      "Saved MEM\n",
      "Saved MEM\n",
      "Saved MEM\n",
      "Saved MEM\n",
      "Saved MEM\n",
      "Saved MEM\n",
      "Saved MEM\n",
      "Saved MEM\n",
      "Saved MEM\n",
      "Saved MEM\n",
      "Saved MEM\n",
      "Saved MEM\n",
      "Saved MEM\n",
      "Saved MEM\n",
      "Saved MEM\n",
      "Saved MEM\n",
      "Saved MEM\n",
      "Saved MEM\n",
      "Saved MEM\n",
      "Saved MEM\n",
      "Saved MEM\n",
      "Saved MEM\n",
      "Saved MEM\n",
      "Saved MEM\n",
      "Saved MEM\n",
      "Saved MEM\n",
      "Saved MEM\n",
      "Saved MEM\n",
      "Saved MEM\n",
      "Saved MEM\n",
      "Saved MEM\n",
      "Saved MEM\n",
      "Saved MEM\n",
      "Saved MEM\n",
      "Saved MEM\n",
      "Saved MEM\n",
      "Saved MEM\n",
      "Saved MEM\n",
      "Saved MEM\n",
      "Saved MEM\n",
      "Saved MEM\n",
      "Saved MEM\n",
      "Saved MEM\n",
      "Saved MEM\n",
      "Saved MEM\n",
      "Saved MEM\n",
      "Saved MEM\n",
      "Saved MEM\n",
      "Saved MEM\n",
      "Saved MEM\n",
      "Saved MEM\n",
      "Saved MEM\n",
      "Saved MEM\n",
      "Saved MEM\n",
      "Saved MEM\n",
      "Saved MEM\n",
      "Saved MEM\n",
      "Saved MEM\n",
      "Saved MEM\n",
      "Saved MEM\n",
      "Saved MEM\n",
      "Saved MEM\n",
      "Saved MEM\n",
      "Saved MEM\n",
      "Saved MEM\n",
      "Saved MEM\n",
      "Saved MEM\n",
      "Saved MEM\n",
      "Saved MEM\n",
      "Saved MEM\n",
      "Saved MEM\n",
      "Saved MEM\n",
      "Saved MEM\n",
      "Saved MEM\n",
      "Saved MEM\n",
      "Saved MEM\n",
      "Saved MEM\n",
      "Saved MEM\n",
      "Saved MEM\n",
      "Saved MEM\n",
      "Saved MEM\n",
      "Saved MEM\n",
      "Saved MEM\n",
      "Saved MEM\n",
      "Saved MEM\n",
      "Saved MEM\n",
      "Saved MEM\n",
      "Saved MEM\n",
      "Saved MEM\n",
      "Saved MEM\n",
      "Saved MEM\n",
      "Saved MEM\n",
      "Saved MEM\n",
      "Saved MEM\n",
      "Saved MEM\n",
      "Saved MEM\n",
      "Saved MEM\n",
      "Saved MEM\n",
      "Saved MEM\n",
      "Saved MEM\n",
      "Saved MEM\n",
      "Saved MEM\n",
      "Saved MEM\n",
      "Saved MEM\n",
      "Saved MEM\n",
      "Saved MEM\n",
      "Saved MEM\n",
      "Saved MEM\n",
      "Saved MEM\n",
      "Saved MEM\n",
      "Saved MEM\n",
      "Saved MEM\n",
      "Saved MEM\n",
      "Saved MEM\n",
      "Saved MEM\n",
      "Saved MEM\n",
      "Saved MEM\n",
      "Saved MEM\n",
      "Saved MEM\n",
      "Saved MEM\n",
      "Saved MEM\n",
      "Saved MEM\n",
      "Saved MEM\n",
      "Saved MEM\n",
      "Saved MEM\n",
      "Saved MEM\n",
      "Saved MEM\n",
      "Saved MEM\n"
     ]
    },
    {
     "name": "stderr",
     "output_type": "stream",
     "text": [
      "2025-01-29 15:29:54,339 [INFO] Renaming output files for clarity.\n",
      "2025-01-29 15:29:54,340 [INFO] Summing DI images.\n",
      "2025-01-29 15:29:54,360 [INFO] Final output saved to: ./ecmwf/2023/06/11/20230611T11649_S_dn.tif\n"
     ]
    },
    {
     "name": "stdout",
     "output_type": "stream",
     "text": [
      "Saved MEM\n",
      "Saved MEM\n",
      "Saved MEM\n",
      "Saved MEM\n",
      "Saved MEM\n",
      "Saved MEM\n",
      "Saved MEM\n",
      "Saved MEM\n",
      "Saved MEM\n",
      "Saved MEM\n",
      "Saved MEM\n",
      "Saved MEM\n",
      "Saved MEM\n",
      "Saved MEM\n",
      "Saved MEM\n",
      "Saving TA to ecmwf/2023/06/11/20230611T11649_TA.tif\n",
      "Saving EA to ecmwf/2023/06/11/20230611T11649_EA.tif\n",
      "Saving WS to ecmwf/2023/06/11/20230611T11649_WS.tif\n",
      "Saving PA to ecmwf/2023/06/11/20230611T11649_PA.tif\n",
      "Saving AOT to ecmwf/2023/06/11/20230611T11649_AOT.tif\n",
      "Saving TCWV to ecmwf/2023/06/11/20230611T11649_TCWV.tif\n",
      "Saving PAR-DIR to ecmwf/2023/06/11/20230611T11649_PAR-DIR.tif\n",
      "Saving NIR-DIR to ecmwf/2023/06/11/20230611T11649_NIR-DIR.tif\n",
      "Saving PAR-DIF to ecmwf/2023/06/11/20230611T11649_PAR-DIF.tif\n",
      "Saving NIR-DIF to ecmwf/2023/06/11/20230611T11649_NIR-DIF.tif\n",
      "Saving LW-IN to ecmwf/2023/06/11/20230611T11649_LW-IN.tif\n",
      "Saving ETr to ecmwf/2023/06/11/20230611_ETR.tif\n",
      "Saving SW-IN-DD to ecmwf/2023/06/11/20230611_SW-IN-DD.tif\n"
     ]
    },
    {
     "data": {
      "text/plain": [
       "'./ecmwf/2023/06/11/20230611T11649_S_dn.tif'"
      ]
     },
     "execution_count": 8,
     "metadata": {},
     "output_type": "execute_result"
    }
   ],
   "source": [
    "get_meteo(connection, date, bounding_box)"
   ]
  },
  {
   "cell_type": "code",
   "execution_count": 9,
   "metadata": {},
   "outputs": [
    {
     "name": "stderr",
     "output_type": "stream",
     "text": [
      "2025-01-29 15:31:49,643 [INFO] Starting resample_meteo_to_s2 processing...\n",
      "2025-01-29 15:31:49,685 [INFO] Using Sentinel-2 extent: (448260.0, 6259760.0, 453260.0, 6265390.0)\n",
      "2025-01-29 15:31:49,686 [INFO] Processing 20230611_S_dn_24.tif -> ecmwf/2023/06/11/20230611_S_dn_24.tif\n",
      "2025-01-29 15:31:49,708 [INFO] Processing 20230611T11649_u.tif -> ecmwf/2023/06/11/20230611T11649_u.tif\n",
      "2025-01-29 15:31:49,724 [INFO] Processing 20230611T11649_S_dn.tif -> ecmwf/2023/06/11/20230611T11649_S_dn.tif\n",
      "2025-01-29 15:31:49,740 [INFO] Processing 20230611T11649_EA.tif -> ecmwf/2023/06/11/20230611T11649_EA.tif\n",
      "2025-01-29 15:31:49,757 [INFO] Processing 20230611T11649_p.tif -> ecmwf/2023/06/11/20230611T11649_p.tif\n",
      "2025-01-29 15:31:49,773 [INFO] Processing 20230611T11649_T_A1.tif -> ecmwf/2023/06/11/20230611T11649_T_A1.tif\n",
      "2025-01-29 15:31:49,788 [INFO] Processing completed successfully.\n"
     ]
    }
   ],
   "source": [
    "resample_meteo_to_s2(\"ecmwf/2023/06/11\", \"ecmwf/2023/06/11\", lai_path)"
   ]
  },
  {
   "cell_type": "code",
   "execution_count": null,
   "metadata": {},
   "outputs": [],
   "source": []
  }
 ],
 "metadata": {
  "kernelspec": {
   "display_name": "Python 3",
   "language": "python",
   "name": "python3"
  },
  "language_info": {
   "codemirror_mode": {
    "name": "ipython",
    "version": 3
   },
   "file_extension": ".py",
   "mimetype": "text/x-python",
   "name": "python",
   "nbconvert_exporter": "python",
   "pygments_lexer": "ipython3",
   "version": "3.10.12"
  }
 },
 "nbformat": 4,
 "nbformat_minor": 2
}
