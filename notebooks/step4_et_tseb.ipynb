{
 "cells": [
  {
   "cell_type": "markdown",
   "metadata": {},
   "source": [
    "This notebook can be run on the Copernicus Dataspace Jupyterhub but running the following package installation cell first\n",
    "\n",
    "**Note** You should select on of the kernels with GDAL installed, eg. \"Geo science\""
   ]
  },
  {
   "cell_type": "code",
   "execution_count": 1,
   "metadata": {},
   "outputs": [],
   "source": [
    "try:\n",
    "    import eomaji\n",
    "except ModuleNotFoundError:\n",
    "    !pip install eomaji@git+https://github.com/DHI/EOMAJI-OpenEO-toolbox.git"
   ]
  },
  {
   "cell_type": "markdown",
   "metadata": {},
   "source": [
    "# Two-Source Energy Balance (TSEB) Model Implementation\n",
    "This notebook implements the **Two-Source Energy Balance (TSEB) model** using the `pyTSEB` package.\n",
    "It processes sharpened Sentinel-3 Land Surface Temperature (LST) data along with meteorological and vegetation parameters\n",
    "to compute land surface energy fluxes at high spatial resolution."
   ]
  },
  {
   "cell_type": "code",
   "execution_count": 7,
   "metadata": {},
   "outputs": [],
   "source": [
    "import hashlib\n",
    "from pathlib import Path\n",
    "from pyTSEB.PyTSEB import PyTSEB\n",
    "from eomaji.utils.general_utils import read_area_date_info"
   ]
  },
  {
   "cell_type": "markdown",
   "metadata": {},
   "source": [
    "## 1. Define AOI and date\n",
    "Either read it from dumped information from the [prepare_data.ipynb](notebooks/prepare_data.ipynb) notebook, or define it yourself"
   ]
  },
  {
   "cell_type": "code",
   "execution_count": 8,
   "metadata": {},
   "outputs": [],
   "source": [
    "date_dir = \"./data\"\n",
    "date, bbox = read_area_date_info(\n",
    "    dir=date_dir\n",
    ")\n",
    "#date = datetime.date(2023, 6, 25)\n",
    "#bbox = [6.153142, 45.045924, 6.433234, 45.251259]"
   ]
  },
  {
   "cell_type": "markdown",
   "metadata": {},
   "source": [
    "### Define paths for input and output data"
   ]
  },
  {
   "cell_type": "code",
   "execution_count": 28,
   "metadata": {},
   "outputs": [],
   "source": [
    "date_str = str(date).replace(\"-\", \"\")\n",
    "bbox_hash = hashlib.md5(str(bbox).encode()).hexdigest()[:8]\n",
    "base_data_path = Path(date_dir) / f\"{date_str}_{bbox_hash}\"\n",
    "meteorological_data_path = base_data_path / \"meteo_data\"\n",
    "output_file = base_data_path / f\"{date_str}_image.vrt\"\n",
    "date_time = next((f for f in meteorological_data_path.glob(\"*\") if f.is_file() and \"NIR\" in f.stem), None).stem.split('_')[0]"
   ]
  },
  {
   "cell_type": "markdown",
   "metadata": {},
   "source": [
    "### Define TSEB model parameters\n",
    "You can leave it as it is if you where running the other notebooks with default values"
   ]
  },
  {
   "cell_type": "code",
   "execution_count": 34,
   "metadata": {},
   "outputs": [],
   "source": [
    "params = {\n",
    "    \"model\": \"TSEB_PT\",\n",
    "    \"output_file\": str(output_file),\n",
    "    \"T_R1\": str(base_data_path / \"sharpened_LST.tif\"),  # land surface temperature - this should be the Sharpened Sentinel-3 LST\n",
    "    \"VZA\": str(base_data_path / f\"{date_str}_VZA.tif\"),\n",
    "    \"input_mask\": 0,\n",
    "    \"LAI\": str(base_data_path / f\"{date_str}_LAI.tif\"),\n",
    "    \"f_c\": str(base_data_path / f\"{date_str}_FCOVER.tif\"),\n",
    "    \"h_C\": str(base_data_path / f\"{date_str}_H_C.tif\"),\n",
    "    \"w_C\": str(base_data_path / f\"{date_str}_W_C.tif\"),\n",
    "    \"f_g\": str(base_data_path / f\"{date_str}_F_G.tif\"),\n",
    "    \"lat\": 38.289355,  # <INPUT_DATASET>_LAT.tif\n",
    "    \"lon\": -121.117794,  # <INPUT_DATASET>_LONG.tif\n",
    "    \"alt\": str(base_data_path / f\"{date_str}_ELEV.tif\"),\n",
    "    \"stdlon\": 0,\n",
    "    \"z_T\": 5,\n",
    "    \"z_u\": 5,\n",
    "    \"DOY\": 221,  # <INPUT_DATASET>_DOY_UTC.tif\n",
    "    \"time\": 10.9992,  # <INPUT_DATASET>_TIME_UTC.tif\n",
    "    \"T_A1\": str(meteorological_data_path / f\"{date_time}_T_A1.tif\"),\n",
    "    \"u\": str(meteorological_data_path / f\"{date_time}_u.tif\"),\n",
    "    \"p\": str(meteorological_data_path / f\"{date_time}_p.tif\"),\n",
    "    \"ea\": str(meteorological_data_path / f\"{date_time}_EA.tif\"),\n",
    "    \"S_dn\": str(meteorological_data_path / f\"{date_time}_S_dn.tif\"),\n",
    "    \"S_dn_24\": str(meteorological_data_path / f\"{date_time}_S_dn_24.tif\"),\n",
    "    \"emis_C\": 0.99,\n",
    "    \"emis_S\": 0.97,\n",
    "    \"tau_vis_C\": str(base_data_path / f\"{date_str}_TAU_VIS_C.tif\"),\n",
    "    \"rho_vis_C\": str(base_data_path / f\"{date_str}_RHO_VIS_C.tif\"),\n",
    "    \"rho_nir_C\": str(base_data_path / f\"{date_str}_RHO_NIR_C.tif\"),\n",
    "    \"tau_nir_C\": str(base_data_path / f\"{date_str}_TAU_NIR_C.tif\"),\n",
    "    \"rho_vis_S\": 0.15,\n",
    "    \"rho_nir_S\": 0.25,\n",
    "    \"alpha_PT\": 1.26,\n",
    "    \"x_LAD\": 1,\n",
    "    \"z0_soil\": 0.01,\n",
    "    \"landcover\": str(base_data_path / \"WordlCover2021.tif\"),\n",
    "    \"leaf_width\": str(base_data_path / f\"{date_str}_LEAF_WIDTH.tif\"),\n",
    "    \"resistance_form\": 0,\n",
    "    \"KN_b\": 0.012,\n",
    "    \"KN_c\": 0.0038,\n",
    "    \"KN_C_dash\": 90,\n",
    "    \"R_ss\": 500,\n",
    "    \"Rst_min\": 100,\n",
    "    \"G_form\": [[1], 0.35],\n",
    "    \"G_ratio\": 0.35,\n",
    "    \"G_constant\": 0,\n",
    "    \"G_amp\": 0.35,\n",
    "    \"G_phase\": 3,\n",
    "    \"G_shape\": 24,\n",
    "    \"water_stress\": 1,\n",
    "    \"calc_row\": [1, 90],\n",
    "    \"row_az\": 90,\n",
    "}"
   ]
  },
  {
   "cell_type": "markdown",
   "metadata": {},
   "source": [
    "### Run the TSEB model"
   ]
  },
  {
   "cell_type": "code",
   "execution_count": 35,
   "metadata": {},
   "outputs": [
    {
     "name": "stdout",
     "output_type": "stream",
     "text": [
      "Estimating missing SZA parameter\n",
      "Estimating missing SAA parameter\n",
      "Estimating missing L_dn parameter\n",
      "data/20230531_00e8dda8/meteo_data/20230531T11649_S_dn_24.tif image not present for parameter S_dn_24\n",
      "Provide a valid S_dn_24 (Daily shortwave irradiance) value if you want to estimate daily ET\n",
      "Processing...\n"
     ]
    },
    {
     "name": "stderr",
     "output_type": "stream",
     "text": [
      "/usr/local/lib/python3.10/dist-packages/pyTSEB/meteo_utils.py:385: RuntimeWarning: divide by zero encountered in divide\n",
      "  r = epsilon * ea / (p - ea)\n",
      "/usr/local/lib/python3.10/dist-packages/pyTSEB/meteo_utils.py:413: RuntimeWarning: invalid value encountered in divide\n",
      "  Gamma_w = ((g * (R_d * T_A_K**2 + lambda_v * r * T_A_K)\n",
      "ERROR 4: data/20230531_00e8dda8/meteo_data/20230531T11649_S_dn_24.tif: No such file or directory\n"
     ]
    },
    {
     "name": "stdout",
     "output_type": "stream",
     "text": [
      "Finished iterations with no valid solution\n",
      "Finished iterations with no valid solution\n",
      "Finished processing!\n",
      "['R_n1', 'H1', 'LE1', 'G1', 'CWSI']\n",
      "['data/20230531_00e8dda8/20230531_image.data/20230531_image_R_n1.tif', 'data/20230531_00e8dda8/20230531_image.data/20230531_image_H1.tif', 'data/20230531_00e8dda8/20230531_image.data/20230531_image_LE1.tif', 'data/20230531_00e8dda8/20230531_image.data/20230531_image_G1.tif', 'data/20230531_00e8dda8/20230531_image.data/20230531_image_CWSI.tif']\n",
      "['data/20230531_00e8dda8/20230531_image_ancillary.data/20230531_image_R_ns1.tif', 'data/20230531_00e8dda8/20230531_image_ancillary.data/20230531_image_R_nl1.tif', 'data/20230531_00e8dda8/20230531_image_ancillary.data/20230531_image_delta_R_n1.tif', 'data/20230531_00e8dda8/20230531_image_ancillary.data/20230531_image_H_C1.tif', 'data/20230531_00e8dda8/20230531_image_ancillary.data/20230531_image_LE_C1.tif', 'data/20230531_00e8dda8/20230531_image_ancillary.data/20230531_image_LE_partition.tif', 'data/20230531_00e8dda8/20230531_image_ancillary.data/20230531_image_T_C1.tif', 'data/20230531_00e8dda8/20230531_image_ancillary.data/20230531_image_T_S1.tif', 'data/20230531_00e8dda8/20230531_image_ancillary.data/20230531_image_R_A1.tif', 'data/20230531_00e8dda8/20230531_image_ancillary.data/20230531_image_R_x1.tif', 'data/20230531_00e8dda8/20230531_image_ancillary.data/20230531_image_R_S1.tif', 'data/20230531_00e8dda8/20230531_image_ancillary.data/20230531_image_L.tif', 'data/20230531_00e8dda8/20230531_image_ancillary.data/20230531_image_u_friction.tif', 'data/20230531_00e8dda8/20230531_image_ancillary.data/20230531_image_flag.tif', 'data/20230531_00e8dda8/20230531_image_ancillary.data/20230531_image_LE_0.tif', 'data/20230531_00e8dda8/20230531_image_ancillary.data/20230531_image_LE_C_0.tif']\n",
      "Saved Files\n"
     ]
    }
   ],
   "source": [
    "model = PyTSEB(params)\n",
    "results = model.process_local_image()"
   ]
  },
  {
   "cell_type": "code",
   "execution_count": null,
   "metadata": {},
   "outputs": [],
   "source": []
  }
 ],
 "metadata": {
  "kernelspec": {
   "display_name": "Python 3",
   "language": "python",
   "name": "python3"
  },
  "language_info": {
   "codemirror_mode": {
    "name": "ipython",
    "version": 3
   },
   "file_extension": ".py",
   "mimetype": "text/x-python",
   "name": "python",
   "nbconvert_exporter": "python",
   "pygments_lexer": "ipython3",
   "version": "3.10.12"
  }
 },
 "nbformat": 4,
 "nbformat_minor": 2
}
