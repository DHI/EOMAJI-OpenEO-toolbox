{
 "cells": [
  {
   "cell_type": "markdown",
   "metadata": {},
   "source": [
    "# Example of how to run the Data Mining Sharpender\n",
    "This notebook can be run on C"
   ]
  },
  {
   "cell_type": "code",
   "execution_count": null,
   "metadata": {},
   "outputs": [],
   "source": [
    "import openeo\n",
    "from eomaji.workflows.decision_tree_sharpener import run_decision_tree_sharpener"
   ]
  },
  {
   "cell_type": "code",
   "execution_count": 3,
   "metadata": {},
   "outputs": [
    {
     "name": "stdout",
     "output_type": "stream",
     "text": [
      "Authenticated using refresh token.\n"
     ]
    },
    {
     "data": {
      "text/plain": [
       "<Connection to 'https://openeocloud.vito.be/openeo/1.0.0/' with OidcBearerAuth>"
      ]
     },
     "execution_count": 3,
     "metadata": {},
     "output_type": "execute_result"
    }
   ],
   "source": [
    "connection = openeo.connect(\"https://openeo.cloud\")\n",
    "connection.authenticate_oidc()"
   ]
  },
  {
   "cell_type": "code",
   "execution_count": 4,
   "metadata": {},
   "outputs": [],
   "source": [
    "aoi = {\n",
    "    \"type\": \"Polygon\",\n",
    "    \"coordinates\": [[\n",
    "      [\n",
    "        8.1733155,\n",
    "        56.554395\n",
    "      ],\n",
    "      [\n",
    "        8.1733155,\n",
    "        56.554395\n",
    "      ],\n",
    "      [\n",
    "        8.1671337,\n",
    "        56.4854867\n",
    "      ],\n",
    "      [\n",
    "        8.2378811,\n",
    "        56.5051875\n",
    "      ],\n",
    "      [\n",
    "        8.2323862,\n",
    "        56.5464504\n",
    "      ],\n",
    "      [\n",
    "        8.1733155,\n",
    "        56.554395\n",
    "      ]\n",
    "    ]]\n",
    "}\n",
    "start_date = \"2024-09-18\"\n",
    "end_date = \"2024-09-18\"\n",
    "\n",
    "high_resolution_collection = \"SENTINEL2_L2A\"\n",
    "high_resolution_bands = [\"B04\"]\n",
    "\n",
    "low_resolution_collection = \"SENTINEL3_SLSTR\"\n",
    "low_resolution_bands = [\"S8\"]"
   ]
  },
  {
   "cell_type": "code",
   "execution_count": 5,
   "metadata": {},
   "outputs": [],
   "source": [
    "# Load high-resolution collection\n",
    "high_resolution_cube = connection.load_collection(\n",
    "    high_resolution_collection,\n",
    "    spatial_extent=aoi,\n",
    "    temporal_extent=[start_date, end_date],\n",
    "    bands=high_resolution_bands,\n",
    ")\n",
    "\n",
    "# Load low-resolution collection\n",
    "low_resolution_cube = connection.load_collection(\n",
    "    low_resolution_collection,\n",
    "    spatial_extent=aoi,\n",
    "    temporal_extent=[start_date, end_date],\n",
    "    bands=low_resolution_bands,\n",
    ")"
   ]
  },
  {
   "cell_type": "markdown",
   "metadata": {},
   "source": [
    "### Load Datacubes"
   ]
  },
  {
   "cell_type": "code",
   "execution_count": 7,
   "metadata": {},
   "outputs": [
    {
     "name": "stderr",
     "output_type": "stream",
     "text": [
      "/usr/lib/python3/dist-packages/osgeo/gdal.py:315: FutureWarning: Neither gdal.UseExceptions() nor gdal.DontUseExceptions() has been explicitly called. In GDAL 4.0, exceptions will be enabled by default.\n",
      "  warnings.warn(\n"
     ]
    },
    {
     "name": "stdout",
     "output_type": "stream",
     "text": [
      "Homogeneity CV threshold: 0.52\n",
      "Number of training elements for is 63 representing 100% of avaiable low-resolution data.\n",
      "Homogeneity CV threshold: 0.52\n",
      "Number of training elements for is 63 representing 100% of avaiable low-resolution data.\n",
      "0\n",
      "Saved MEM\n",
      "Saved MEM\n",
      "Saved MEM\n",
      "Saved MEM\n",
      "Saved MEM\n",
      "Saved MEM\n"
     ]
    }
   ],
   "source": [
    "sharpened_data = run_decision_tree_sharpener(\n",
    "    high_resolution_cube = high_resolution_cube,\n",
    "    low_resolution_cube = low_resolution_cube\n",
    ")"
   ]
  },
  {
   "cell_type": "code",
   "execution_count": null,
   "metadata": {},
   "outputs": [],
   "source": []
  }
 ],
 "metadata": {
  "kernelspec": {
   "display_name": "Python 3",
   "language": "python",
   "name": "python3"
  },
  "language_info": {
   "codemirror_mode": {
    "name": "ipython",
    "version": 3
   },
   "file_extension": ".py",
   "mimetype": "text/x-python",
   "name": "python",
   "nbconvert_exporter": "python",
   "pygments_lexer": "ipython3",
   "version": "3.10.12"
  }
 },
 "nbformat": 4,
 "nbformat_minor": 2
}
