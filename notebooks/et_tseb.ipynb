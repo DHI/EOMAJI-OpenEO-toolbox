{
 "cells": [
  {
   "cell_type": "code",
   "execution_count": 1,
   "metadata": {},
   "outputs": [],
   "source": [
    "import openeo\n",
    "from pyTSEB.PyTSEB import PyTSEB\n",
    "from pyTSEB.TSEB import TSEB_PT"
   ]
  },
  {
   "cell_type": "code",
   "execution_count": 8,
   "metadata": {},
   "outputs": [],
   "source": [
    "params = {\n",
    "    \"model\":\"TSEB_PT\",\n",
    "    \"output_file\":\"./Output/20230611_image.vrt\",\n",
    "    \"T_R1\":\"sharpened_LST.tif\", # land surface temperature - this should be the Sharpened Sentinel-3 LST \n",
    "    \"VZA\":\"./s2/2023/06/11/20230611_VZA.tif\", # View Zenith Angle (degrees)\n",
    "    \"input_mask\":0,\n",
    "    \"LAI\":\"./s2/2023/06/11/20230611_LAI.tif\",\n",
    "    \"f_c\":\"./s2/2023/06/11/20230611_FCOVER.tif\",\n",
    "    \"h_C\":\"./s2/2023/06/11/20230611_H_C.tif\",\n",
    "    \"w_C\":\"./s2/2023/06/11/20230611_W_C.tif\",\n",
    "    \"f_g\":\"./s2/2023/06/11/20230611_F_G.tif\",\n",
    "    \"lat\":38.289355,\t#<INPUT_DATASET>_LAT.tif\n",
    "    \"lon\":-121.117794,\t#<INPUT_DATASET>_LONG.tif\n",
    "    \"alt\":\"./s2/2023/06/11/20230611_ELEV.tif\",\n",
    "    \"stdlon\":0,\n",
    "    \"z_T\":5,\n",
    "    \"z_u\":5,\n",
    "    \"DOY\":221,\t#<INPUT_DATASET>_DOY_UTC.tif\n",
    "    \"time\":10.9992,\t#<INPUT_DATASET>_TIME_UTC.tif\n",
    "    \"T_A1\":\"./ecmwf/2023/06/11/20230611T11649_T_A1.tif\",\n",
    "    \"u\":\"./ecmwf/2023/06/11/20230611T11649_u.tif\",\n",
    "    \"p\":\"./ecmwf/2023/06/11/20230611T11649_p.tif\",\n",
    "    \"ea\":\"./ecmwf/2023/06/11/20230611T11649_EA.tif\",\n",
    "    \"S_dn\":\"./ecmwf/2023/06/11/20230611T11649_S_dn.tif\",\n",
    "    \"S_dn_24\":\"./ecmwf/2023/06/11/20230611T11649_S_dn_24.tif\",\n",
    "    \"emis_C\":0.99,# <INPUT_DATASET>_EMISS_C.tif  leaf emissivity\n",
    "    \"emis_S\":0.97, # <INPUT_DATASET>_EMISS_S.tif  soil emissivity\n",
    "    \"tau_vis_C\":\"./s2/2023/06/11/20230611_TAU_VIS_C.tif\",\n",
    "    \"rho_vis_C\":\"./s2/2023/06/11/20230611_RHO_VIS_C.tif\",\n",
    "    \"rho_nir_C\":\"./s2/2023/06/11/20230611_RHO_NIR_C.tif\",\n",
    "    \"tau_nir_C\":\"./s2/2023/06/11/20230611_TAU_NIR_C.tif\",\n",
    "    \"rho_vis_S\":0.15,\n",
    "    \"rho_nir_S\":0.25,\n",
    "    \"alpha_PT\":1.26,\n",
    "    \"x_LAD\":1,  # <INPUT_DATASET>_X_LAD.tif veg_inclination_distribution from world cover\n",
    "    \"z0_soil\":0.01,\n",
    "    \"landcover\":\"./s2/2023/06/11/WordlCover2021.tif\" ,# <INPUT_DATASET>_IGBP.tif\n",
    "    \"leaf_width\":\"./s2/2023/06/11/20230611_LEAF_WIDTH.tif\",\n",
    "    \"resistance_form\":0,\n",
    "    \"KN_b\":0.012,\n",
    "    \"KN_c\":0.0038,\n",
    "    \"KN_C_dash\":90,\n",
    "    \"R_ss\":500,\n",
    "    \"Rst_min\":100,\n",
    "    \"G_form\":[[1], 0.35],\n",
    "    \"G_ratio\":0.35,\n",
    "    \"G_constant\":0,\n",
    "    \"G_amp\":0.35,\n",
    "    \"G_phase\":3,\n",
    "    \"G_shape\":24,\n",
    "    \"water_stress\":1,\n",
    "    \"calc_row\":[1, 90],\n",
    "    \"row_az\":90,\n",
    "}"
   ]
  },
  {
   "cell_type": "code",
   "execution_count": 9,
   "metadata": {},
   "outputs": [
    {
     "name": "stdout",
     "output_type": "stream",
     "text": [
      "Estimating missing SZA parameter\n",
      "Estimating missing SAA parameter\n",
      "Estimating missing L_dn parameter\n",
      "./ecmwf/2023/06/11/20230611T11649_S_dn_24.tif image not present for parameter S_dn_24\n",
      "Provide a valid S_dn_24 (Daily shortwave irradiance) value if you want to estimate daily ET\n",
      "Processing...\n",
      "Finished iterations with no valid solution\n",
      "Finished iterations with no valid solution\n",
      "Finished processing!\n",
      "['R_n1', 'H1', 'LE1', 'G1', 'CWSI']\n",
      "['./Output/20230611_image.data/20230611_image_R_n1.tif', './Output/20230611_image.data/20230611_image_H1.tif', './Output/20230611_image.data/20230611_image_LE1.tif', './Output/20230611_image.data/20230611_image_G1.tif', './Output/20230611_image.data/20230611_image_CWSI.tif']\n"
     ]
    },
    {
     "name": "stderr",
     "output_type": "stream",
     "text": [
      "ERROR 4: ./ecmwf/2023/06/11/20230611T11649_S_dn_24.tif: No such file or directory\n"
     ]
    },
    {
     "name": "stdout",
     "output_type": "stream",
     "text": [
      "['./Output/20230611_image_ancillary.data/20230611_image_R_ns1.tif', './Output/20230611_image_ancillary.data/20230611_image_R_nl1.tif', './Output/20230611_image_ancillary.data/20230611_image_delta_R_n1.tif', './Output/20230611_image_ancillary.data/20230611_image_H_C1.tif', './Output/20230611_image_ancillary.data/20230611_image_LE_C1.tif', './Output/20230611_image_ancillary.data/20230611_image_LE_partition.tif', './Output/20230611_image_ancillary.data/20230611_image_T_C1.tif', './Output/20230611_image_ancillary.data/20230611_image_T_S1.tif', './Output/20230611_image_ancillary.data/20230611_image_R_A1.tif', './Output/20230611_image_ancillary.data/20230611_image_R_x1.tif', './Output/20230611_image_ancillary.data/20230611_image_R_S1.tif', './Output/20230611_image_ancillary.data/20230611_image_L.tif', './Output/20230611_image_ancillary.data/20230611_image_u_friction.tif', './Output/20230611_image_ancillary.data/20230611_image_flag.tif', './Output/20230611_image_ancillary.data/20230611_image_LE_0.tif', './Output/20230611_image_ancillary.data/20230611_image_LE_C_0.tif']\n",
      "Saved Files\n"
     ]
    }
   ],
   "source": [
    "model = PyTSEB(params)\n",
    "results = model.process_local_image()"
   ]
  },
  {
   "cell_type": "code",
   "execution_count": null,
   "metadata": {},
   "outputs": [],
   "source": []
  }
 ],
 "metadata": {
  "kernelspec": {
   "display_name": "Python 3",
   "language": "python",
   "name": "python3"
  },
  "language_info": {
   "codemirror_mode": {
    "name": "ipython",
    "version": 3
   },
   "file_extension": ".py",
   "mimetype": "text/x-python",
   "name": "python",
   "nbconvert_exporter": "python",
   "pygments_lexer": "ipython3",
   "version": "3.10.12"
  }
 },
 "nbformat": 4,
 "nbformat_minor": 2
}
