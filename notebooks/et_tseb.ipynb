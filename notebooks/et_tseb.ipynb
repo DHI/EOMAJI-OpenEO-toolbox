{
 "cells": [
  {
   "cell_type": "markdown",
   "metadata": {},
   "source": [
    "This notebook can be run on the Copernicus Dataspace Jupyterhub but running the following package installation cell first"
   ]
  },
  {
   "cell_type": "code",
   "execution_count": null,
   "metadata": {},
   "outputs": [],
   "source": [
    "!pip install eomaji@git+https://github.com/DHI/EOMAJI-OpenEO-toolbox.git"
   ]
  },
  {
   "cell_type": "markdown",
   "metadata": {},
   "source": [
    "# Two-Source Energy Balance (TSEB) Model Implementation\n",
    "This notebook implements the **Two-Source Energy Balance (TSEB) model** using the `pyTSEB` package.\n",
    "It processes sharpened Sentinel-3 Land Surface Temperature (LST) data along with meteorological and vegetation parameters\n",
    "to compute land surface energy fluxes at high spatial resolution."
   ]
  },
  {
   "cell_type": "markdown",
   "metadata": {},
   "source": [
    "### Load Required Packages\n",
    "Install the required `eomaji` package if not already installed"
   ]
  },
  {
   "cell_type": "code",
   "execution_count": 12,
   "metadata": {},
   "outputs": [],
   "source": [
    "import os\n",
    "from pyTSEB.PyTSEB import PyTSEB"
   ]
  },
  {
   "cell_type": "markdown",
   "metadata": {},
   "source": [
    "### Define paths for input and output data"
   ]
  },
  {
   "cell_type": "code",
   "execution_count": 13,
   "metadata": {},
   "outputs": [],
   "source": [
    "data_path = \"./data\"\n",
    "sharpened_LST_path = \"sharpened_LST.tif\"\n",
    "output_file = \"./Output/20230611_image.vrt\""
   ]
  },
  {
   "cell_type": "markdown",
   "metadata": {},
   "source": [
    "### Define date of observation"
   ]
  },
  {
   "cell_type": "code",
   "execution_count": 15,
   "metadata": {},
   "outputs": [],
   "source": [
    "date = \"2023-06-11\"\n",
    "date_time = \"20230611T11649\" # of meteorological parameters\n",
    "year, month, day = date.split(\"-\")"
   ]
  },
  {
   "cell_type": "markdown",
   "metadata": {},
   "source": [
    "### Define paths for Sentinel-2 and meteorological data"
   ]
  },
  {
   "cell_type": "code",
   "execution_count": null,
   "metadata": {},
   "outputs": [],
   "source": [
    "sentinel2_data_path = os.path.join(data_path, \"s2_data\")\n",
    "meteorological_data_path = os.path.join(data_path, \"ecmwf\")"
   ]
  },
  {
   "cell_type": "markdown",
   "metadata": {},
   "source": [
    "### Define TSEB model parameters\n",
    "You can leave it as it is if you where running the other notebooks with default values"
   ]
  },
  {
   "cell_type": "code",
   "execution_count": null,
   "metadata": {},
   "outputs": [],
   "source": [
    "params = {\n",
    "    \"model\": \"TSEB_PT\",\n",
    "    \"output_file\": output_file,\n",
    "    \"T_R1\": sharpened_LST_path,  # land surface temperature - this should be the Sharpened Sentinel-3 LST\n",
    "    \"VZA\": f\"{sentinel2_data_path}{year}/{month}/{day}/{date_time}_VZA.tif\",  \n",
    "    \"input_mask\": 0,\n",
    "    \"LAI\": f\"{sentinel2_data_path}{year}/{month}/{day}/{date_time}_LAI.tif\",\n",
    "    \"f_c\": f\"{sentinel2_data_path}{year}/{month}/{day}/{date_time}_FCOVER.tif\",\n",
    "    \"h_C\": f\"{sentinel2_data_path}{year}/{month}/{day}/{date_time}_H_C.tif\",\n",
    "    \"w_C\": f\"{sentinel2_data_path}{year}/{month}/{day}/{date_time}_W_C.tif\",\n",
    "    \"f_g\": f\"{sentinel2_data_path}{year}/{month}/{day}/{date_time}_F_G.tif\",\n",
    "    \"lat\": 38.289355,  # <INPUT_DATASET>_LAT.tif\n",
    "    \"lon\": -121.117794,  # <INPUT_DATASET>_LONG.tif\n",
    "    \"alt\": f\"{sentinel2_data_path}{year}/{month}/{day}/{date_time}_ELEV.tif\",\n",
    "    \"stdlon\": 0,\n",
    "    \"z_T\": 5,\n",
    "    \"z_u\": 5,\n",
    "    \"DOY\": 221,  # <INPUT_DATASET>_DOY_UTC.tif\n",
    "    \"time\": 10.9992,  # <INPUT_DATASET>_TIME_UTC.tif\n",
    "    \"T_A1\": f\"{meteorological_data_path}{year}/{month}/{day}/{date_time}_T_A1.tif\",\n",
    "    \"u\": f\"{meteorological_data_path}{year}/{month}/{day}/{date_time}_u.tif\",\n",
    "    \"p\": f\"{meteorological_data_path}{year}/{month}/{day}/{date_time}_p.tif\",\n",
    "    \"ea\": f\"{meteorological_data_path}{year}/{month}/{day}/{date_time}_EA.tif\",\n",
    "    \"S_dn\": f\"{meteorological_data_path}{year}/{month}/{day}/{date_time}_S_dn.tif\",\n",
    "    \"S_dn_24\": f\"{meteorological_data_path}{year}/{month}/{day}/{date_time}_S_dn_24.tif\",\n",
    "    \"emis_C\": 0.99,\n",
    "    \"emis_S\": 0.97,  \n",
    "    \"tau_vis_C\": f\"{sentinel2_data_path}{year}/{month}/{day}/{date_time}_TAU_VIS_C.tif\",\n",
    "    \"rho_vis_C\": f\"{sentinel2_data_path}{year}/{month}/{day}/{date_time}_RHO_VIS_C.tif\",\n",
    "    \"rho_nir_C\": f\"{sentinel2_data_path}{year}/{month}/{day}/{date_time}_RHO_NIR_C.tif\",\n",
    "    \"tau_nir_C\": f\"{sentinel2_data_path}{year}/{month}/{day}/{date_time}_TAU_NIR_C.tif\",\n",
    "    \"rho_vis_S\": 0.15,\n",
    "    \"rho_nir_S\": 0.25,\n",
    "    \"alpha_PT\": 1.26,\n",
    "    \"x_LAD\": 1, \n",
    "    \"z0_soil\": 0.01,\n",
    "    \"landcover\": f\"{sentinel2_data_path}{year}/{month}/{day}/WordlCover2021.tif\",\n",
    "    \"leaf_width\": f\"{sentinel2_data_path}{year}/{month}/{day}/{date_time}_LEAF_WIDTH.tif\",\n",
    "    \"resistance_form\": 0,\n",
    "    \"KN_b\": 0.012,\n",
    "    \"KN_c\": 0.0038,\n",
    "    \"KN_C_dash\": 90,\n",
    "    \"R_ss\": 500,\n",
    "    \"Rst_min\": 100,\n",
    "    \"G_form\": [[1], 0.35],\n",
    "    \"G_ratio\": 0.35,\n",
    "    \"G_constant\": 0,\n",
    "    \"G_amp\": 0.35,\n",
    "    \"G_phase\": 3,\n",
    "    \"G_shape\": 24,\n",
    "    \"water_stress\": 1,\n",
    "    \"calc_row\": [1, 90],\n",
    "    \"row_az\": 90,\n",
    "}"
   ]
  },
  {
   "cell_type": "markdown",
   "metadata": {},
   "source": [
    "### Run the TSEB model"
   ]
  },
  {
   "cell_type": "code",
   "execution_count": 9,
   "metadata": {},
   "outputs": [
    {
     "name": "stdout",
     "output_type": "stream",
     "text": [
      "Estimating missing SZA parameter\n",
      "Estimating missing SAA parameter\n",
      "Estimating missing L_dn parameter\n",
      "./ecmwf/2023/06/11/20230611T11649_S_dn_24.tif image not present for parameter S_dn_24\n",
      "Provide a valid S_dn_24 (Daily shortwave irradiance) value if you want to estimate daily ET\n",
      "Processing...\n",
      "Finished iterations with no valid solution\n",
      "Finished iterations with no valid solution\n",
      "Finished processing!\n",
      "['R_n1', 'H1', 'LE1', 'G1', 'CWSI']\n",
      "['./Output/20230611_image.data/20230611_image_R_n1.tif', './Output/20230611_image.data/20230611_image_H1.tif', './Output/20230611_image.data/20230611_image_LE1.tif', './Output/20230611_image.data/20230611_image_G1.tif', './Output/20230611_image.data/20230611_image_CWSI.tif']\n"
     ]
    },
    {
     "name": "stderr",
     "output_type": "stream",
     "text": [
      "ERROR 4: ./ecmwf/2023/06/11/20230611T11649_S_dn_24.tif: No such file or directory\n"
     ]
    },
    {
     "name": "stdout",
     "output_type": "stream",
     "text": [
      "['./Output/20230611_image_ancillary.data/20230611_image_R_ns1.tif', './Output/20230611_image_ancillary.data/20230611_image_R_nl1.tif', './Output/20230611_image_ancillary.data/20230611_image_delta_R_n1.tif', './Output/20230611_image_ancillary.data/20230611_image_H_C1.tif', './Output/20230611_image_ancillary.data/20230611_image_LE_C1.tif', './Output/20230611_image_ancillary.data/20230611_image_LE_partition.tif', './Output/20230611_image_ancillary.data/20230611_image_T_C1.tif', './Output/20230611_image_ancillary.data/20230611_image_T_S1.tif', './Output/20230611_image_ancillary.data/20230611_image_R_A1.tif', './Output/20230611_image_ancillary.data/20230611_image_R_x1.tif', './Output/20230611_image_ancillary.data/20230611_image_R_S1.tif', './Output/20230611_image_ancillary.data/20230611_image_L.tif', './Output/20230611_image_ancillary.data/20230611_image_u_friction.tif', './Output/20230611_image_ancillary.data/20230611_image_flag.tif', './Output/20230611_image_ancillary.data/20230611_image_LE_0.tif', './Output/20230611_image_ancillary.data/20230611_image_LE_C_0.tif']\n",
      "Saved Files\n"
     ]
    }
   ],
   "source": [
    "model = PyTSEB(params)\n",
    "results = model.process_local_image()"
   ]
  },
  {
   "cell_type": "code",
   "execution_count": null,
   "metadata": {},
   "outputs": [],
   "source": []
  }
 ],
 "metadata": {
  "kernelspec": {
   "display_name": "Python 3",
   "language": "python",
   "name": "python3"
  },
  "language_info": {
   "codemirror_mode": {
    "name": "ipython",
    "version": 3
   },
   "file_extension": ".py",
   "mimetype": "text/x-python",
   "name": "python",
   "nbconvert_exporter": "python",
   "pygments_lexer": "ipython3",
   "version": "3.10.12"
  }
 },
 "nbformat": 4,
 "nbformat_minor": 2
}
